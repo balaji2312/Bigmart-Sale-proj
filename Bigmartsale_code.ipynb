{
 "cells": [
  {
   "cell_type": "code",
   "execution_count": 1,
   "id": "c58d1615-dbe5-4536-81e1-9a31c3f84904",
   "metadata": {},
   "outputs": [],
   "source": [
    "import pandas as pd\n",
    "import numpy as np\n",
    "import matplotlib.pyplot as plt\n",
    "import seaborn as sns"
   ]
  },
  {
   "cell_type": "code",
   "execution_count": 33,
   "id": "ad5538fb-672a-41fd-826b-82ab8347a3df",
   "metadata": {},
   "outputs": [],
   "source": [
    "from sklearn.impute import KNNImputer"
   ]
  },
  {
   "cell_type": "code",
   "execution_count": 461,
   "id": "abcc85c6-3375-442d-b172-14f5b6ffddff",
   "metadata": {},
   "outputs": [],
   "source": [
    "from sklearn.preprocessing import LabelEncoder,StandardScaler"
   ]
  },
  {
   "cell_type": "code",
   "execution_count": 463,
   "id": "8e67afce-a982-4f91-813e-81c0c95f3ca0",
   "metadata": {},
   "outputs": [],
   "source": [
    "from sklearn.model_selection import train_test_split\n",
    "from sklearn.ensemble import RandomForestRegressor\n",
    "from  xgboost import XGBRegressor\n",
    "from sklearn.ensemble import GradientBoostingRegressor\n",
    "from catboost import CatBoostRegressor\n",
    "from sklearn.metrics import mean_squared_error,mean_absolute_error,r2_score\n",
    "from sklearn.model_selection import GridSearchCV\n",
    "import os"
   ]
  },
  {
   "cell_type": "code",
   "execution_count": 26,
   "id": "df77b09a-2ccf-4936-a966-b2e3613a57b9",
   "metadata": {},
   "outputs": [],
   "source": [
    "import warnings\n",
    "warnings.filterwarnings(\"ignore\")"
   ]
  },
  {
   "cell_type": "code",
   "execution_count": 2,
   "id": "b02595f9-cab7-4b0d-a35c-9d9aeaf1c7ee",
   "metadata": {},
   "outputs": [],
   "source": [
    "## Reading the Input training data:\n",
    "df_sal=pd.read_csv('train.csv')"
   ]
  },
  {
   "cell_type": "code",
   "execution_count": 4,
   "id": "c9a86f54-48b9-4ac4-8d33-56a2dd8ff0a2",
   "metadata": {},
   "outputs": [
    {
     "name": "stdout",
     "output_type": "stream",
     "text": [
      "Total values (8523, 12)\n"
     ]
    }
   ],
   "source": [
    "print('Total values',df_sal.shape)"
   ]
  },
  {
   "cell_type": "code",
   "execution_count": 19,
   "id": "2508462b-87c1-4a63-a0a7-d696098928e7",
   "metadata": {},
   "outputs": [
    {
     "name": "stdout",
     "output_type": "stream",
     "text": [
      "<class 'pandas.core.frame.DataFrame'>\n",
      "RangeIndex: 8523 entries, 0 to 8522\n",
      "Data columns (total 12 columns):\n",
      " #   Column                     Non-Null Count  Dtype  \n",
      "---  ------                     --------------  -----  \n",
      " 0   Item_Identifier            8523 non-null   object \n",
      " 1   Item_Weight                7060 non-null   float64\n",
      " 2   Item_Fat_Content           8523 non-null   object \n",
      " 3   Item_Visibility            8523 non-null   float64\n",
      " 4   Item_Type                  8523 non-null   object \n",
      " 5   Item_MRP                   8523 non-null   float64\n",
      " 6   Outlet_Identifier          8523 non-null   object \n",
      " 7   Outlet_Establishment_Year  8523 non-null   int64  \n",
      " 8   Outlet_Size                6113 non-null   object \n",
      " 9   Outlet_Location_Type       8523 non-null   object \n",
      " 10  Outlet_Type                8523 non-null   object \n",
      " 11  Item_Outlet_Sales          8523 non-null   float64\n",
      "dtypes: float64(4), int64(1), object(7)\n",
      "memory usage: 799.2+ KB\n"
     ]
    }
   ],
   "source": [
    "df_sal.info()"
   ]
  },
  {
   "cell_type": "code",
   "execution_count": 20,
   "id": "928c3c7c-8a06-4afb-97f5-4c7b08f05874",
   "metadata": {},
   "outputs": [
    {
     "data": {
      "text/html": [
       "<div>\n",
       "<style scoped>\n",
       "    .dataframe tbody tr th:only-of-type {\n",
       "        vertical-align: middle;\n",
       "    }\n",
       "\n",
       "    .dataframe tbody tr th {\n",
       "        vertical-align: top;\n",
       "    }\n",
       "\n",
       "    .dataframe thead th {\n",
       "        text-align: right;\n",
       "    }\n",
       "</style>\n",
       "<table border=\"1\" class=\"dataframe\">\n",
       "  <thead>\n",
       "    <tr style=\"text-align: right;\">\n",
       "      <th></th>\n",
       "      <th>Item_Weight</th>\n",
       "      <th>Item_Visibility</th>\n",
       "      <th>Item_MRP</th>\n",
       "      <th>Outlet_Establishment_Year</th>\n",
       "      <th>Item_Outlet_Sales</th>\n",
       "    </tr>\n",
       "  </thead>\n",
       "  <tbody>\n",
       "    <tr>\n",
       "      <th>count</th>\n",
       "      <td>7060.000000</td>\n",
       "      <td>8523.000000</td>\n",
       "      <td>8523.000000</td>\n",
       "      <td>8523.000000</td>\n",
       "      <td>8523.000000</td>\n",
       "    </tr>\n",
       "    <tr>\n",
       "      <th>mean</th>\n",
       "      <td>12.857645</td>\n",
       "      <td>0.066132</td>\n",
       "      <td>140.992782</td>\n",
       "      <td>1997.831867</td>\n",
       "      <td>2181.288914</td>\n",
       "    </tr>\n",
       "    <tr>\n",
       "      <th>std</th>\n",
       "      <td>4.643456</td>\n",
       "      <td>0.051598</td>\n",
       "      <td>62.275067</td>\n",
       "      <td>8.371760</td>\n",
       "      <td>1706.499616</td>\n",
       "    </tr>\n",
       "    <tr>\n",
       "      <th>min</th>\n",
       "      <td>4.555000</td>\n",
       "      <td>0.000000</td>\n",
       "      <td>31.290000</td>\n",
       "      <td>1985.000000</td>\n",
       "      <td>33.290000</td>\n",
       "    </tr>\n",
       "    <tr>\n",
       "      <th>25%</th>\n",
       "      <td>8.773750</td>\n",
       "      <td>0.026989</td>\n",
       "      <td>93.826500</td>\n",
       "      <td>1987.000000</td>\n",
       "      <td>834.247400</td>\n",
       "    </tr>\n",
       "    <tr>\n",
       "      <th>50%</th>\n",
       "      <td>12.600000</td>\n",
       "      <td>0.053931</td>\n",
       "      <td>143.012800</td>\n",
       "      <td>1999.000000</td>\n",
       "      <td>1794.331000</td>\n",
       "    </tr>\n",
       "    <tr>\n",
       "      <th>75%</th>\n",
       "      <td>16.850000</td>\n",
       "      <td>0.094585</td>\n",
       "      <td>185.643700</td>\n",
       "      <td>2004.000000</td>\n",
       "      <td>3101.296400</td>\n",
       "    </tr>\n",
       "    <tr>\n",
       "      <th>max</th>\n",
       "      <td>21.350000</td>\n",
       "      <td>0.328391</td>\n",
       "      <td>266.888400</td>\n",
       "      <td>2009.000000</td>\n",
       "      <td>13086.964800</td>\n",
       "    </tr>\n",
       "  </tbody>\n",
       "</table>\n",
       "</div>"
      ],
      "text/plain": [
       "       Item_Weight  Item_Visibility     Item_MRP  Outlet_Establishment_Year  \\\n",
       "count  7060.000000      8523.000000  8523.000000                8523.000000   \n",
       "mean     12.857645         0.066132   140.992782                1997.831867   \n",
       "std       4.643456         0.051598    62.275067                   8.371760   \n",
       "min       4.555000         0.000000    31.290000                1985.000000   \n",
       "25%       8.773750         0.026989    93.826500                1987.000000   \n",
       "50%      12.600000         0.053931   143.012800                1999.000000   \n",
       "75%      16.850000         0.094585   185.643700                2004.000000   \n",
       "max      21.350000         0.328391   266.888400                2009.000000   \n",
       "\n",
       "       Item_Outlet_Sales  \n",
       "count        8523.000000  \n",
       "mean         2181.288914  \n",
       "std          1706.499616  \n",
       "min            33.290000  \n",
       "25%           834.247400  \n",
       "50%          1794.331000  \n",
       "75%          3101.296400  \n",
       "max         13086.964800  "
      ]
     },
     "execution_count": 20,
     "metadata": {},
     "output_type": "execute_result"
    }
   ],
   "source": [
    "df_sal.describe()"
   ]
  },
  {
   "cell_type": "code",
   "execution_count": 5,
   "id": "02709cf4-f922-4b92-adc6-e7de85940bc9",
   "metadata": {},
   "outputs": [
    {
     "data": {
      "text/plain": [
       "Item_Identifier                 0\n",
       "Item_Weight                  1463\n",
       "Item_Fat_Content                0\n",
       "Item_Visibility                 0\n",
       "Item_Type                       0\n",
       "Item_MRP                        0\n",
       "Outlet_Identifier               0\n",
       "Outlet_Establishment_Year       0\n",
       "Outlet_Size                  2410\n",
       "Outlet_Location_Type            0\n",
       "Outlet_Type                     0\n",
       "Item_Outlet_Sales               0\n",
       "dtype: int64"
      ]
     },
     "execution_count": 5,
     "metadata": {},
     "output_type": "execute_result"
    }
   ],
   "source": [
    "## Null values for each columns:\n",
    "df_sal.isnull().sum()"
   ]
  },
  {
   "cell_type": "markdown",
   "id": "9dc4e121-6ac3-4794-9a0f-f6124fea53d7",
   "metadata": {},
   "source": [
    "Only Two columns has Null values need to handle them. In which one is categorical feature and another one is numerical feature"
   ]
  },
  {
   "cell_type": "code",
   "execution_count": 18,
   "id": "56ee9126-9de0-49b6-9c89-c5030fa018a3",
   "metadata": {},
   "outputs": [
    {
     "name": "stdout",
     "output_type": "stream",
     "text": [
      "Mean- 12.857645184135976\n",
      "Median- 12.6\n",
      "Mode- 0    12.15\n",
      "Name: Item_Weight, dtype: float64\n",
      "Standard Deviation- 4.643456499186395\n"
     ]
    },
    {
     "name": "stderr",
     "output_type": "stream",
     "text": [
      "C:\\Users\\Balaji Ramakrishnan\\AppData\\Local\\Temp\\ipykernel_13192\\3835988780.py:3: UserWarning: \n",
      "\n",
      "`distplot` is a deprecated function and will be removed in seaborn v0.14.0.\n",
      "\n",
      "Please adapt your code to use either `displot` (a figure-level function with\n",
      "similar flexibility) or `histplot` (an axes-level function for histograms).\n",
      "\n",
      "For a guide to updating your code to use the new functions, please see\n",
      "https://gist.github.com/mwaskom/de44147ed2974457ad6372750bbe5751\n",
      "\n",
      "  sns.distplot(df_sal['Item_Weight'])\n",
      "C:\\Users\\Balaji Ramakrishnan\\anaconda3\\Lib\\site-packages\\seaborn\\_oldcore.py:1119: FutureWarning: use_inf_as_na option is deprecated and will be removed in a future version. Convert inf values to NaN before operating instead.\n",
      "  with pd.option_context('mode.use_inf_as_na', True):\n"
     ]
    },
    {
     "data": {
      "image/png": "[encoded data removed]",
      "text/plain": [
       "<Figure size 640x480 with 1 Axes>"
      ]
     },
     "metadata": {},
     "output_type": "display_data"
    }
   ],
   "source": [
    "# df_sal['Outlet_Size']\n",
    "## Item Weight will say the weigh of each product\n",
    "sns.distplot(df_sal['Item_Weight'])\n",
    "# sns.kdeplot(df_sal['Item_Weight'])\n",
    "print('Mean-',df_sal['Item_Weight'].mean())\n",
    "print('Median-',df_sal['Item_Weight'].median())\n",
    "print('Mode-',df_sal['Item_Weight'].mode())\n",
    "print('Standard Deviation-',df_sal['Item_Weight'].std())"
   ]
  },
  {
   "cell_type": "markdown",
   "id": "a88d57fe-43bc-4ba8-960f-9d81d19c7206",
   "metadata": {},
   "source": [
    "When I look into the data, It seems data is been dispersed very well and value will be ranging between 4-22 aprx."
   ]
  },
  {
   "cell_type": "code",
   "execution_count": 31,
   "id": "c383065c-1021-4d66-afde-8f8a234fe4ec",
   "metadata": {},
   "outputs": [
    {
     "name": "stdout",
     "output_type": "stream",
     "text": [
      "Standart Deviation- 4.2261237245329735\n",
      "Standart Deviation- 4.227240406467719\n",
      "Standart Deviation- 4.2345404209745565\n"
     ]
    },
    {
     "data": {
      "image/png": "[encoded data removed]",
      "text/plain": [
       "<Figure size 1000x1000 with 3 Axes>"
      ]
     },
     "metadata": {},
     "output_type": "display_data"
    }
   ],
   "source": [
    "plt.figure(figsize=(10,10))\n",
    "mean=df_sal['Item_Weight'].mean()\n",
    "median=df_sal['Item_Weight'].median()\n",
    "mode=df_sal['Item_Weight'].mode()[0]\n",
    "check=[mean,median,mode]\n",
    "for i in range(1,4):\n",
    "    axe=plt.subplot(2,2,i)\n",
    "    print('Standart Deviation-',df_sal['Item_Weight'].fillna(value=check[i-1]).std())\n",
    "    sns.distplot(df_sal['Item_Weight'].fillna(value=check[i-1]),ax=axe)\n",
    "    "
   ]
  },
  {
   "cell_type": "markdown",
   "id": "5cfc5a7b-60e1-4312-9ee5-937021b3924a",
   "metadata": {},
   "source": [
    "Data is been skewed and one partiicular value spike has been created."
   ]
  },
  {
   "cell_type": "code",
   "execution_count": 118,
   "id": "1128f98a-68c9-4ffb-b983-03b720e4aa86",
   "metadata": {},
   "outputs": [
    {
     "name": "stdout",
     "output_type": "stream",
     "text": [
      "Standard Deviation:  4.641354441982182\n"
     ]
    }
   ],
   "source": [
    "# df_sal.loc[df_sal['Item_Weight'].isnull()==False,'Item_Weight'].sample(df_sal['Item_Weight'].isnull().sum())\n",
    "null_index=df_sal[df_sal['Item_Weight'].isnull()==True].index\n",
    "replace_values=df_sal.loc[df_sal['Item_Weight'].isnull()==False,'Item_Weight'].sample(df_sal['Item_Weight'].isnull().sum())\n",
    "replace_values.index=null_index\n",
    "df_sal['Item_Weight'].fillna(replace_values,inplace=True)\n",
    "print('Standard Deviation: ',df_sal['Item_Weight'].std())"
   ]
  },
  {
   "cell_type": "markdown",
   "id": "1719cd48-dd2d-4c9c-8663-cb27fa95eebd",
   "metadata": {},
   "source": [
    "As Notice above if I use Mean/Median/Mode technique. Overall data has been dispersed. So now, I have useed the sampling technique\n",
    "to handle the NULL value"
   ]
  },
  {
   "cell_type": "markdown",
   "id": "6875fde8-4c09-4d05-8528-6dc39984ec03",
   "metadata": {},
   "source": [
    "Test Data Sample"
   ]
  },
  {
   "cell_type": "code",
   "execution_count": 753,
   "id": "6d69d3d8-fccc-4537-9e1d-1087e6ab2c9a",
   "metadata": {},
   "outputs": [],
   "source": [
    "def NULL_handling(test_df,cn):\n",
    "    # df_sal.loc[df_sal['Item_Weight'].isnull()==False,'Item_Weight'].sample(df_sal['Item_Weight'].isnull().sum())\n",
    "    null_index=test_df[test_df[cn].isnull()==True].index\n",
    "    replace_values=test_df.loc[test_df[cn].isnull()==False,cn].sample(test_df[cn].isnull().sum())\n",
    "    replace_values.index=null_index\n",
    "    test_df[cn].fillna(replace_values,inplace=True)\n",
    "    print('Standard Deviation: ',test_df[cn].std())\n",
    "    return test_df\n",
    "    "
   ]
  },
  {
   "cell_type": "code",
   "execution_count": null,
   "id": "e692991c-3343-43f7-9e18-ec41939cb724",
   "metadata": {},
   "outputs": [],
   "source": []
  },
  {
   "cell_type": "code",
   "execution_count": 121,
   "id": "c05563f1-c2f3-465f-b886-87e790badf7d",
   "metadata": {},
   "outputs": [
    {
     "data": {
      "text/plain": [
       "<Axes: xlabel='Item_Weight', ylabel='Density'>"
      ]
     },
     "execution_count": 121,
     "metadata": {},
     "output_type": "execute_result"
    },
    {
     "data": {
      "image/png": "[encoded data removed]",
      "text/plain": [
       "<Figure size 640x480 with 1 Axes>"
      ]
     },
     "metadata": {},
     "output_type": "display_data"
    }
   ],
   "source": [
    "sns.distplot(df_sal['Item_Weight'])"
   ]
  },
  {
   "cell_type": "markdown",
   "id": "ff2c2e78-ccad-4607-aedf-5c0fd2b225a1",
   "metadata": {},
   "source": [
    " Since Mean/Median/Mode distortes the original distribution and increase the count of the same values to all the feature. \n",
    " I have used 'sample Imputaion technique' where the SD is not changed much and the distribution of the variable is not impacted."
   ]
  },
  {
   "cell_type": "code",
   "execution_count": 151,
   "id": "962f2bab-92fc-4f31-b248-fcc1070b47b1",
   "metadata": {},
   "outputs": [
    {
     "data": {
      "text/plain": [
       "<Axes: xlabel='Outlet_Size'>"
      ]
     },
     "execution_count": 151,
     "metadata": {},
     "output_type": "execute_result"
    },
    {
     "data": {
      "image/png": "[encoded data removed]",
      "text/plain": [
       "<Figure size 640x480 with 1 Axes>"
      ]
     },
     "metadata": {},
     "output_type": "display_data"
    }
   ],
   "source": [
    "df_sal['Outlet_Size'].value_counts().plot.bar()"
   ]
  },
  {
   "cell_type": "markdown",
   "id": "4c203fc9-1bb3-48ef-a5e8-19f4d65b7871",
   "metadata": {},
   "source": [
    "As per the above diagram most of the outlet size is medium. So If we handle the value the NA using 'Count/ frequency' it \n",
    "data will get skewed or biased to one feature."
   ]
  },
  {
   "cell_type": "code",
   "execution_count": 141,
   "id": "8b8b5fbb-f60b-4430-acc7-ece5c96e4552",
   "metadata": {},
   "outputs": [
    {
     "data": {
      "text/plain": [
       "<Axes: xlabel='Outlet_Size', ylabel='count'>"
      ]
     },
     "execution_count": 141,
     "metadata": {},
     "output_type": "execute_result"
    },
    {
     "data": {
      "image/png": "[encoded data removed]",
      "text/plain": [
       "<Figure size 640x480 with 1 Axes>"
      ]
     },
     "metadata": {},
     "output_type": "display_data"
    }
   ],
   "source": [
    "sns.countplot(data=df_sal,x='Outlet_Size',hue='Outlet_Location_Type')"
   ]
  },
  {
   "cell_type": "code",
   "execution_count": 169,
   "id": "e20ac539-e2a6-447f-9054-22bd610f508d",
   "metadata": {},
   "outputs": [
    {
     "data": {
      "text/plain": [
       "<Axes: xlabel='Outlet_Location_Type'>"
      ]
     },
     "execution_count": 169,
     "metadata": {},
     "output_type": "execute_result"
    },
    {
     "data": {
      "image/png": "[encoded data removed]",
      "text/plain": [
       "<Figure size 640x480 with 1 Axes>"
      ]
     },
     "metadata": {},
     "output_type": "display_data"
    }
   ],
   "source": [
    "df_sal.loc[df_sal['Outlet_Size'].isnull()==True,'Outlet_Location_Type'].value_counts().plot.bar()"
   ]
  },
  {
   "cell_type": "markdown",
   "id": "35995d21-c0cf-4cc8-9503-5e21fc001a5e",
   "metadata": {},
   "source": [
    "As we can see from the above diagrams that mostly, missing data is only for the outlet present in 'Tier 3 and Tier 2' locations.\n",
    "so, Also, for all the outlet present in Tier 2 location are small and around 20% of missing values belongs to tier 2 only\n",
    "and Tier 3 is falling under medium or High. In order to balace will replace the tier 3 records with High"
   ]
  },
  {
   "cell_type": "code",
   "execution_count": 182,
   "id": "94452c1c-4834-47e3-8a20-76c3479d1e0a",
   "metadata": {},
   "outputs": [],
   "source": [
    "df_sal['Outlet_Size']=df_sal[['Outlet_Size','Outlet_Location_Type']].apply(lambda x: 'Small' if (pd.isna(x['Outlet_Size'])==True) \n",
    "                                                     & (x['Outlet_Location_Type']=='Tier 2') else ( 'High' if (pd.isna(x['Outlet_Size'])==True) & (x['Outlet_Location_Type']!='Tier 2') else x['Outlet_Size']),axis=1)"
   ]
  },
  {
   "cell_type": "code",
   "execution_count": 186,
   "id": "64319196-b45a-43b2-8011-2510a58805d7",
   "metadata": {},
   "outputs": [
    {
     "data": {
      "text/plain": [
       "<Axes: xlabel='Outlet_Size', ylabel='count'>"
      ]
     },
     "execution_count": 186,
     "metadata": {},
     "output_type": "execute_result"
    },
    {
     "data": {
      "image/png": "[encoded data removed]",
      "text/plain": [
       "<Figure size 640x480 with 1 Axes>"
      ]
     },
     "metadata": {},
     "output_type": "display_data"
    }
   ],
   "source": [
    "sns.countplot(data=df_sal,x='Outlet_Size')"
   ]
  },
  {
   "cell_type": "markdown",
   "id": "248f0810-b9fe-486e-8c23-909f70abe31b",
   "metadata": {},
   "source": [
    "As per the above diagram most of the outlet size is Small. But it make sense as per the data"
   ]
  },
  {
   "cell_type": "code",
   "execution_count": 224,
   "id": "632a3539-993a-40e9-93ad-4dc9d736d1e9",
   "metadata": {},
   "outputs": [
    {
     "data": {
      "text/plain": [
       "<Axes: xlabel='Outlet_Establishment_Year,Outlet_Identifier'>"
      ]
     },
     "execution_count": 224,
     "metadata": {},
     "output_type": "execute_result"
    },
    {
     "data": {
      "image/png": "[encoded data removed]",
      "text/plain": [
       "<Figure size 640x480 with 1 Axes>"
      ]
     },
     "metadata": {},
     "output_type": "display_data"
    }
   ],
   "source": [
    "df_sal.groupby(['Outlet_Establishment_Year','Outlet_Identifier'])['Item_Outlet_Sales'].sum().sort_values().plot.bar()"
   ]
  },
  {
   "cell_type": "code",
   "execution_count": 221,
   "id": "f4aa2030-da11-43fa-8f71-cdb26a45d882",
   "metadata": {},
   "outputs": [
    {
     "data": {
      "text/plain": [
       "<Axes: xlabel='Outlet_Establishment_Year'>"
      ]
     },
     "execution_count": 221,
     "metadata": {},
     "output_type": "execute_result"
    },
    {
     "data": {
      "image/png": "[encoded data removed]",
      "text/plain": [
       "<Figure size 640x480 with 1 Axes>"
      ]
     },
     "metadata": {},
     "output_type": "display_data"
    }
   ],
   "source": [
    "df_sal.groupby(['Outlet_Establishment_Year'])['Item_Outlet_Sales'].sum().sort_values().plot.bar()"
   ]
  },
  {
   "cell_type": "markdown",
   "id": "5c4e2a4d-ae36-4592-a9fd-cd1e5f70f6ee",
   "metadata": {},
   "source": [
    "As per the above view sales is very good in 1985 particularly for the outlet 'Outlet027'."
   ]
  },
  {
   "cell_type": "code",
   "execution_count": 209,
   "id": "6126ec1e-a841-4045-89ff-4c6e163057de",
   "metadata": {},
   "outputs": [
    {
     "data": {
      "text/html": [
       "<div>\n",
       "<style scoped>\n",
       "    .dataframe tbody tr th:only-of-type {\n",
       "        vertical-align: middle;\n",
       "    }\n",
       "\n",
       "    .dataframe tbody tr th {\n",
       "        vertical-align: top;\n",
       "    }\n",
       "\n",
       "    .dataframe thead th {\n",
       "        text-align: right;\n",
       "    }\n",
       "</style>\n",
       "<table border=\"1\" class=\"dataframe\">\n",
       "  <thead>\n",
       "    <tr style=\"text-align: right;\">\n",
       "      <th></th>\n",
       "      <th>Outlet_Identifier</th>\n",
       "      <th>Outlet_Establishment_Year</th>\n",
       "    </tr>\n",
       "  </thead>\n",
       "  <tbody>\n",
       "    <tr>\n",
       "      <th>7</th>\n",
       "      <td>OUT027</td>\n",
       "      <td>1985</td>\n",
       "    </tr>\n",
       "    <tr>\n",
       "      <th>23</th>\n",
       "      <td>OUT019</td>\n",
       "      <td>1985</td>\n",
       "    </tr>\n",
       "    <tr>\n",
       "      <th>4</th>\n",
       "      <td>OUT013</td>\n",
       "      <td>1987</td>\n",
       "    </tr>\n",
       "    <tr>\n",
       "      <th>11</th>\n",
       "      <td>OUT046</td>\n",
       "      <td>1997</td>\n",
       "    </tr>\n",
       "    <tr>\n",
       "      <th>3</th>\n",
       "      <td>OUT010</td>\n",
       "      <td>1998</td>\n",
       "    </tr>\n",
       "    <tr>\n",
       "      <th>0</th>\n",
       "      <td>OUT049</td>\n",
       "      <td>1999</td>\n",
       "    </tr>\n",
       "    <tr>\n",
       "      <th>8</th>\n",
       "      <td>OUT045</td>\n",
       "      <td>2002</td>\n",
       "    </tr>\n",
       "    <tr>\n",
       "      <th>19</th>\n",
       "      <td>OUT035</td>\n",
       "      <td>2004</td>\n",
       "    </tr>\n",
       "    <tr>\n",
       "      <th>9</th>\n",
       "      <td>OUT017</td>\n",
       "      <td>2007</td>\n",
       "    </tr>\n",
       "    <tr>\n",
       "      <th>1</th>\n",
       "      <td>OUT018</td>\n",
       "      <td>2009</td>\n",
       "    </tr>\n",
       "  </tbody>\n",
       "</table>\n",
       "</div>"
      ],
      "text/plain": [
       "   Outlet_Identifier  Outlet_Establishment_Year\n",
       "7             OUT027                       1985\n",
       "23            OUT019                       1985\n",
       "4             OUT013                       1987\n",
       "11            OUT046                       1997\n",
       "3             OUT010                       1998\n",
       "0             OUT049                       1999\n",
       "8             OUT045                       2002\n",
       "19            OUT035                       2004\n",
       "9             OUT017                       2007\n",
       "1             OUT018                       2009"
      ]
     },
     "execution_count": 209,
     "metadata": {},
     "output_type": "execute_result"
    }
   ],
   "source": [
    "df_sal.loc[:,['Outlet_Identifier','Outlet_Establishment_Year']].drop_duplicates().sort_values(by='Outlet_Establishment_Year')"
   ]
  },
  {
   "cell_type": "markdown",
   "id": "5f0e02de-2d1a-442a-9542-470a85875507",
   "metadata": {},
   "source": [
    "We have around 10 outlets and noticed there is no interval or year gaps in opening all these outlet and based on the data give it shown all\n",
    "the shop opening has been happened based on other market field analysis not based on the  year interval or every year one show is been \n",
    "opened. since there is not pattern. Dropping this 'Outlet_Establishment_Year' feature."
   ]
  },
  {
   "cell_type": "code",
   "execution_count": 244,
   "id": "ef126bc0-57a9-4a1f-a950-31bc2ebe9246",
   "metadata": {},
   "outputs": [
    {
     "data": {
      "text/plain": [
       "<Axes: xlabel='Outlet_Type'>"
      ]
     },
     "execution_count": 244,
     "metadata": {},
     "output_type": "execute_result"
    },
    {
     "data": {
      "image/png": "[encoded data removed]",
      "text/plain": [
       "<Figure size 1000x500 with 1 Axes>"
      ]
     },
     "metadata": {},
     "output_type": "display_data"
    }
   ],
   "source": [
    "fig=plt.figure(figsize=(10,5))\n",
    "outlet_group=df_sal.groupby('Outlet_Type') ['Item_Outlet_Sales'].sum().sort_values(ascending=False)\n",
    "sns.barplot(x=outlet_group.index,y=outlet_group.values)"
   ]
  },
  {
   "cell_type": "markdown",
   "id": "9ed935a5-eb02-4a44-9b5f-523511799866",
   "metadata": {},
   "source": [
    "Sale is Good at supermarket Type 1"
   ]
  },
  {
   "cell_type": "code",
   "execution_count": 258,
   "id": "0c33c75b-f861-4ae3-b6f5-ad4998b3297e",
   "metadata": {},
   "outputs": [
    {
     "data": {
      "text/plain": [
       "<Axes: xlabel='Outlet_Location_Type', ylabel='Item_Outlet_Sales'>"
      ]
     },
     "execution_count": 258,
     "metadata": {},
     "output_type": "execute_result"
    },
    {
     "data": {
      "image/png": "[encoded data removed]",
      "text/plain": [
       "<Figure size 1000x500 with 1 Axes>"
      ]
     },
     "metadata": {},
     "output_type": "display_data"
    }
   ],
   "source": [
    "fig=plt.figure(figsize=(10,5))\n",
    "outlet_with_loc=df_sal.groupby(['Outlet_Type','Outlet_Location_Type'],as_index=False)['Item_Outlet_Sales'].sum().sort_values(by='Item_Outlet_Sales')\n",
    "sns.barplot(data=outlet_with_loc,x='Outlet_Location_Type',y='Item_Outlet_Sales',hue='Outlet_Type')"
   ]
  },
  {
   "cell_type": "markdown",
   "id": "e66173a0-01a1-4c2b-a303-853f0653c0f7",
   "metadata": {},
   "source": [
    "1.Tier 3 has all type of outler types\n",
    "2. Supeermarket Type 2 is been opened in all the tier's"
   ]
  },
  {
   "cell_type": "code",
   "execution_count": 283,
   "id": "bf3bcb13-f6f5-452b-9f80-11a3fad7ec75",
   "metadata": {},
   "outputs": [],
   "source": [
    "Item_type=df_sal.groupby(['Item_Type'],as_index=False)['Item_Identifier'].count().sort_values(by='Item_Identifier',ascending=False)"
   ]
  },
  {
   "cell_type": "code",
   "execution_count": 284,
   "id": "2e78546f-778e-4399-916c-ddb576abe97b",
   "metadata": {},
   "outputs": [
    {
     "data": {
      "text/plain": [
       "<Axes: xlabel='Item_Type', ylabel='Item_Identifier'>"
      ]
     },
     "execution_count": 284,
     "metadata": {},
     "output_type": "execute_result"
    },
    {
     "data": {
      "image/png": "[encoded data removed]",
      "text/plain": [
       "<Figure size 2000x1000 with 1 Axes>"
      ]
     },
     "metadata": {},
     "output_type": "display_data"
    }
   ],
   "source": [
    "plt.figure(figsize=(20,10))\n",
    "sns.barplot(data=Item_type,x='Item_Type',y='Item_Identifier')"
   ]
  },
  {
   "cell_type": "markdown",
   "id": "f63e9187-1c99-4642-bdba-fed8411ed747",
   "metadata": {},
   "source": [
    "Fruits & Vegetables & Snacks product are more in all the outlets"
   ]
  },
  {
   "cell_type": "code",
   "execution_count": 294,
   "id": "0b977ccf-7792-43c5-a2fb-3071d0dce79f",
   "metadata": {},
   "outputs": [
    {
     "data": {
      "text/plain": [
       "<Axes: xlabel='Item_Type', ylabel='Item_Outlet_Sales'>"
      ]
     },
     "execution_count": 294,
     "metadata": {},
     "output_type": "execute_result"
    },
    {
     "data": {
      "image/png": "[encoded data removed]",
      "text/plain": [
       "<Figure size 2000x1000 with 1 Axes>"
      ]
     },
     "metadata": {},
     "output_type": "display_data"
    }
   ],
   "source": [
    "plt.figure(figsize=(20,10))\n",
    "sale_itemtype=df_sal.groupby('Item_Type',as_index=False)['Item_Outlet_Sales'].sum().sort_values(by='Item_Outlet_Sales',ascending=False)\n",
    "sns.barplot(data=sale_itemtype,x='Item_Type',y='Item_Outlet_Sales')"
   ]
  },
  {
   "cell_type": "markdown",
   "id": "9ace2174-4ca6-47a7-80f4-10a22a914034",
   "metadata": {},
   "source": [
    "There is no change, seems Fruits & Vegetables & Snacks product are sale amount is more whre compate to all the other product type"
   ]
  },
  {
   "cell_type": "code",
   "execution_count": 326,
   "id": "96a51ace-038b-4b3e-af5d-aa24193d93e6",
   "metadata": {},
   "outputs": [],
   "source": [
    "def percentage_check(value):\n",
    "    i=float(value*100)\n",
    "    if i <=5.0:\n",
    "        return '0-5'\n",
    "    elif i>5.0 and i<10.0:\n",
    "        return '5-10'\n",
    "    elif i>10.0 and i<=20.0:\n",
    "        return '11-20'\n",
    "    elif i>20.0 and i<=30:\n",
    "        return '20-30'\n",
    "    else:\n",
    "        return '>30'"
   ]
  },
  {
   "cell_type": "code",
   "execution_count": 327,
   "id": "f2aed36e-e131-4f3a-98c2-031c67761d9c",
   "metadata": {},
   "outputs": [],
   "source": [
    "df_sal['Item_Visibility_pecrange']=df_sal['Item_Visibility'].apply(lambda x: percentage_check(x))"
   ]
  },
  {
   "cell_type": "code",
   "execution_count": 328,
   "id": "5ebaf632-13ed-403a-8783-37501336c74c",
   "metadata": {},
   "outputs": [
    {
     "data": {
      "text/plain": [
       "<Axes: xlabel='Item_Visibility_pecrange', ylabel='count'>"
      ]
     },
     "execution_count": 328,
     "metadata": {},
     "output_type": "execute_result"
    },
    {
     "data": {
      "image/png": "[encoded data removed]",
      "text/plain": [
       "<Figure size 640x480 with 1 Axes>"
      ]
     },
     "metadata": {},
     "output_type": "display_data"
    }
   ],
   "source": [
    "sns.countplot(data=df_sal,x='Item_Visibility_pecrange')"
   ]
  },
  {
   "cell_type": "markdown",
   "id": "23d50f80-7000-4b9f-a7c2-5cfa8c984c3f",
   "metadata": {},
   "source": [
    "We can see mostly for all the products visiblitly is given between 0-5 and 5-10 pec area"
   ]
  },
  {
   "cell_type": "markdown",
   "id": "ae3af927-dc5e-41e2-8c6f-810c39ab4dbc",
   "metadata": {},
   "source": [
    "Below are the Products list which occupies 30% of the visibility space"
   ]
  },
  {
   "cell_type": "code",
   "execution_count": 332,
   "id": "6e687b6f-055a-4c31-bde5-ef8834f64bfd",
   "metadata": {},
   "outputs": [
    {
     "data": {
      "text/html": [
       "<div>\n",
       "<style scoped>\n",
       "    .dataframe tbody tr th:only-of-type {\n",
       "        vertical-align: middle;\n",
       "    }\n",
       "\n",
       "    .dataframe tbody tr th {\n",
       "        vertical-align: top;\n",
       "    }\n",
       "\n",
       "    .dataframe thead th {\n",
       "        text-align: right;\n",
       "    }\n",
       "</style>\n",
       "<table border=\"1\" class=\"dataframe\">\n",
       "  <thead>\n",
       "    <tr style=\"text-align: right;\">\n",
       "      <th></th>\n",
       "      <th>Item_Identifier</th>\n",
       "      <th>Item_Weight</th>\n",
       "      <th>Item_Fat_Content</th>\n",
       "      <th>Item_Visibility</th>\n",
       "      <th>Item_Type</th>\n",
       "      <th>Item_MRP</th>\n",
       "      <th>Outlet_Identifier</th>\n",
       "      <th>Outlet_Establishment_Year</th>\n",
       "      <th>Outlet_Size</th>\n",
       "      <th>Outlet_Location_Type</th>\n",
       "      <th>Outlet_Type</th>\n",
       "      <th>Item_Outlet_Sales</th>\n",
       "      <th>Item_Visibility_pecrange</th>\n",
       "    </tr>\n",
       "  </thead>\n",
       "  <tbody>\n",
       "    <tr>\n",
       "      <th>854</th>\n",
       "      <td>FDU13</td>\n",
       "      <td>6.385</td>\n",
       "      <td>low fat</td>\n",
       "      <td>0.328391</td>\n",
       "      <td>Canned</td>\n",
       "      <td>146.0418</td>\n",
       "      <td>OUT019</td>\n",
       "      <td>1985</td>\n",
       "      <td>Small</td>\n",
       "      <td>Tier 1</td>\n",
       "      <td>Grocery Store</td>\n",
       "      <td>588.5672</td>\n",
       "      <td>&gt;30</td>\n",
       "    </tr>\n",
       "    <tr>\n",
       "      <th>1805</th>\n",
       "      <td>FDJ56</td>\n",
       "      <td>7.475</td>\n",
       "      <td>Low Fat</td>\n",
       "      <td>0.321115</td>\n",
       "      <td>Fruits and Vegetables</td>\n",
       "      <td>100.7700</td>\n",
       "      <td>OUT019</td>\n",
       "      <td>1985</td>\n",
       "      <td>Small</td>\n",
       "      <td>Tier 1</td>\n",
       "      <td>Grocery Store</td>\n",
       "      <td>199.7400</td>\n",
       "      <td>&gt;30</td>\n",
       "    </tr>\n",
       "    <tr>\n",
       "      <th>2251</th>\n",
       "      <td>FDY21</td>\n",
       "      <td>9.195</td>\n",
       "      <td>LF</td>\n",
       "      <td>0.303743</td>\n",
       "      <td>Snack Foods</td>\n",
       "      <td>196.0110</td>\n",
       "      <td>OUT019</td>\n",
       "      <td>1985</td>\n",
       "      <td>Small</td>\n",
       "      <td>Tier 1</td>\n",
       "      <td>Grocery Store</td>\n",
       "      <td>589.2330</td>\n",
       "      <td>&gt;30</td>\n",
       "    </tr>\n",
       "    <tr>\n",
       "      <th>2855</th>\n",
       "      <td>NCE31</td>\n",
       "      <td>7.670</td>\n",
       "      <td>Low Fat</td>\n",
       "      <td>0.309390</td>\n",
       "      <td>Household</td>\n",
       "      <td>33.2216</td>\n",
       "      <td>OUT010</td>\n",
       "      <td>1998</td>\n",
       "      <td>High</td>\n",
       "      <td>Tier 3</td>\n",
       "      <td>Grocery Store</td>\n",
       "      <td>138.4864</td>\n",
       "      <td>&gt;30</td>\n",
       "    </tr>\n",
       "    <tr>\n",
       "      <th>3474</th>\n",
       "      <td>FDS12</td>\n",
       "      <td>16.000</td>\n",
       "      <td>LF</td>\n",
       "      <td>0.304859</td>\n",
       "      <td>Baking Goods</td>\n",
       "      <td>125.4362</td>\n",
       "      <td>OUT019</td>\n",
       "      <td>1985</td>\n",
       "      <td>Small</td>\n",
       "      <td>Tier 1</td>\n",
       "      <td>Grocery Store</td>\n",
       "      <td>755.0172</td>\n",
       "      <td>&gt;30</td>\n",
       "    </tr>\n",
       "    <tr>\n",
       "      <th>3750</th>\n",
       "      <td>NCZ18</td>\n",
       "      <td>5.325</td>\n",
       "      <td>Low Fat</td>\n",
       "      <td>0.325781</td>\n",
       "      <td>Household</td>\n",
       "      <td>252.7698</td>\n",
       "      <td>OUT019</td>\n",
       "      <td>1985</td>\n",
       "      <td>Small</td>\n",
       "      <td>Tier 1</td>\n",
       "      <td>Grocery Store</td>\n",
       "      <td>761.0094</td>\n",
       "      <td>&gt;30</td>\n",
       "    </tr>\n",
       "    <tr>\n",
       "      <th>4382</th>\n",
       "      <td>FDG32</td>\n",
       "      <td>9.800</td>\n",
       "      <td>Low Fat</td>\n",
       "      <td>0.308145</td>\n",
       "      <td>Fruits and Vegetables</td>\n",
       "      <td>222.0772</td>\n",
       "      <td>OUT019</td>\n",
       "      <td>1985</td>\n",
       "      <td>Small</td>\n",
       "      <td>Tier 1</td>\n",
       "      <td>Grocery Store</td>\n",
       "      <td>889.5088</td>\n",
       "      <td>&gt;30</td>\n",
       "    </tr>\n",
       "    <tr>\n",
       "      <th>5150</th>\n",
       "      <td>FDR14</td>\n",
       "      <td>15.850</td>\n",
       "      <td>Low Fat</td>\n",
       "      <td>0.304737</td>\n",
       "      <td>Dairy</td>\n",
       "      <td>54.7298</td>\n",
       "      <td>OUT019</td>\n",
       "      <td>1985</td>\n",
       "      <td>Small</td>\n",
       "      <td>Tier 1</td>\n",
       "      <td>Grocery Store</td>\n",
       "      <td>107.8596</td>\n",
       "      <td>&gt;30</td>\n",
       "    </tr>\n",
       "    <tr>\n",
       "      <th>5732</th>\n",
       "      <td>FDC34</td>\n",
       "      <td>14.100</td>\n",
       "      <td>Regular</td>\n",
       "      <td>0.302479</td>\n",
       "      <td>Snack Foods</td>\n",
       "      <td>155.4972</td>\n",
       "      <td>OUT019</td>\n",
       "      <td>1985</td>\n",
       "      <td>Small</td>\n",
       "      <td>Tier 1</td>\n",
       "      <td>Grocery Store</td>\n",
       "      <td>311.5944</td>\n",
       "      <td>&gt;30</td>\n",
       "    </tr>\n",
       "    <tr>\n",
       "      <th>6622</th>\n",
       "      <td>FDI32</td>\n",
       "      <td>12.150</td>\n",
       "      <td>Low Fat</td>\n",
       "      <td>0.305305</td>\n",
       "      <td>Fruits and Vegetables</td>\n",
       "      <td>116.6834</td>\n",
       "      <td>OUT019</td>\n",
       "      <td>1985</td>\n",
       "      <td>Small</td>\n",
       "      <td>Tier 1</td>\n",
       "      <td>Grocery Store</td>\n",
       "      <td>460.7336</td>\n",
       "      <td>&gt;30</td>\n",
       "    </tr>\n",
       "    <tr>\n",
       "      <th>7250</th>\n",
       "      <td>FDT24</td>\n",
       "      <td>12.350</td>\n",
       "      <td>Regular</td>\n",
       "      <td>0.311090</td>\n",
       "      <td>Baking Goods</td>\n",
       "      <td>79.2328</td>\n",
       "      <td>OUT010</td>\n",
       "      <td>1998</td>\n",
       "      <td>High</td>\n",
       "      <td>Tier 3</td>\n",
       "      <td>Grocery Store</td>\n",
       "      <td>154.4656</td>\n",
       "      <td>&gt;30</td>\n",
       "    </tr>\n",
       "    <tr>\n",
       "      <th>7603</th>\n",
       "      <td>DRF01</td>\n",
       "      <td>18.350</td>\n",
       "      <td>Low Fat</td>\n",
       "      <td>0.306543</td>\n",
       "      <td>Soft Drinks</td>\n",
       "      <td>147.3102</td>\n",
       "      <td>OUT019</td>\n",
       "      <td>1985</td>\n",
       "      <td>Small</td>\n",
       "      <td>Tier 1</td>\n",
       "      <td>Grocery Store</td>\n",
       "      <td>291.6204</td>\n",
       "      <td>&gt;30</td>\n",
       "    </tr>\n",
       "  </tbody>\n",
       "</table>\n",
       "</div>"
      ],
      "text/plain": [
       "     Item_Identifier  Item_Weight Item_Fat_Content  Item_Visibility  \\\n",
       "854            FDU13        6.385          low fat         0.328391   \n",
       "1805           FDJ56        7.475          Low Fat         0.321115   \n",
       "2251           FDY21        9.195               LF         0.303743   \n",
       "2855           NCE31        7.670          Low Fat         0.309390   \n",
       "3474           FDS12       16.000               LF         0.304859   \n",
       "3750           NCZ18        5.325          Low Fat         0.325781   \n",
       "4382           FDG32        9.800          Low Fat         0.308145   \n",
       "5150           FDR14       15.850          Low Fat         0.304737   \n",
       "5732           FDC34       14.100          Regular         0.302479   \n",
       "6622           FDI32       12.150          Low Fat         0.305305   \n",
       "7250           FDT24       12.350          Regular         0.311090   \n",
       "7603           DRF01       18.350          Low Fat         0.306543   \n",
       "\n",
       "                  Item_Type  Item_MRP Outlet_Identifier  \\\n",
       "854                  Canned  146.0418            OUT019   \n",
       "1805  Fruits and Vegetables  100.7700            OUT019   \n",
       "2251            Snack Foods  196.0110            OUT019   \n",
       "2855              Household   33.2216            OUT010   \n",
       "3474           Baking Goods  125.4362            OUT019   \n",
       "3750              Household  252.7698            OUT019   \n",
       "4382  Fruits and Vegetables  222.0772            OUT019   \n",
       "5150                  Dairy   54.7298            OUT019   \n",
       "5732            Snack Foods  155.4972            OUT019   \n",
       "6622  Fruits and Vegetables  116.6834            OUT019   \n",
       "7250           Baking Goods   79.2328            OUT010   \n",
       "7603            Soft Drinks  147.3102            OUT019   \n",
       "\n",
       "      Outlet_Establishment_Year Outlet_Size Outlet_Location_Type  \\\n",
       "854                        1985       Small               Tier 1   \n",
       "1805                       1985       Small               Tier 1   \n",
       "2251                       1985       Small               Tier 1   \n",
       "2855                       1998        High               Tier 3   \n",
       "3474                       1985       Small               Tier 1   \n",
       "3750                       1985       Small               Tier 1   \n",
       "4382                       1985       Small               Tier 1   \n",
       "5150                       1985       Small               Tier 1   \n",
       "5732                       1985       Small               Tier 1   \n",
       "6622                       1985       Small               Tier 1   \n",
       "7250                       1998        High               Tier 3   \n",
       "7603                       1985       Small               Tier 1   \n",
       "\n",
       "        Outlet_Type  Item_Outlet_Sales Item_Visibility_pecrange  \n",
       "854   Grocery Store           588.5672                      >30  \n",
       "1805  Grocery Store           199.7400                      >30  \n",
       "2251  Grocery Store           589.2330                      >30  \n",
       "2855  Grocery Store           138.4864                      >30  \n",
       "3474  Grocery Store           755.0172                      >30  \n",
       "3750  Grocery Store           761.0094                      >30  \n",
       "4382  Grocery Store           889.5088                      >30  \n",
       "5150  Grocery Store           107.8596                      >30  \n",
       "5732  Grocery Store           311.5944                      >30  \n",
       "6622  Grocery Store           460.7336                      >30  \n",
       "7250  Grocery Store           154.4656                      >30  \n",
       "7603  Grocery Store           291.6204                      >30  "
      ]
     },
     "execution_count": 332,
     "metadata": {},
     "output_type": "execute_result"
    }
   ],
   "source": [
    "df_sal[df_sal['Item_Visibility_pecrange']=='>30']"
   ]
  },
  {
   "cell_type": "code",
   "execution_count": 386,
   "id": "b148d4d5-43d8-49a1-8179-76ee059ec880",
   "metadata": {},
   "outputs": [],
   "source": [
    "categorical_features=[]\n",
    "for i in df_sal.dtypes[df_sal.dtypes=='object'].index:\n",
    "    categorical_features.append(i)\n",
    "    "
   ]
  },
  {
   "cell_type": "code",
   "execution_count": 387,
   "id": "c6f9d6f5-443a-457e-bf23-5715717709b1",
   "metadata": {},
   "outputs": [
    {
     "name": "stdout",
     "output_type": "stream",
     "text": [
      "Item_Identifier --> ['FDA15' 'DRC01' 'FDN15' ... 'NCF55' 'NCW30' 'NCW05']\n",
      "Item_Fat_Content --> ['Low Fat' 'Regular' 'low fat' 'LF' 'reg']\n",
      "Item_Type --> ['Dairy' 'Soft Drinks' 'Meat' 'Fruits and Vegetables' 'Household'\n",
      " 'Baking Goods' 'Snack Foods' 'Frozen Foods' 'Breakfast'\n",
      " 'Health and Hygiene' 'Hard Drinks' 'Canned' 'Breads' 'Starchy Foods'\n",
      " 'Others' 'Seafood']\n",
      "Outlet_Identifier --> ['OUT049' 'OUT018' 'OUT010' 'OUT013' 'OUT027' 'OUT045' 'OUT017' 'OUT046'\n",
      " 'OUT035' 'OUT019']\n",
      "Outlet_Size --> ['Medium' 'High' 'Small']\n",
      "Outlet_Location_Type --> ['Tier 1' 'Tier 3' 'Tier 2']\n",
      "Outlet_Type --> ['Supermarket Type1' 'Supermarket Type2' 'Grocery Store'\n",
      " 'Supermarket Type3']\n",
      "Item_Visibility_pecrange --> ['0-5' '11-20' '5-10' '20-30' '>30']\n",
      "Item_Identifier_Code --> ['FDA' 'DRC' 'FDN' 'FDX' 'NCD' 'FDP' 'FDO' 'FDH' 'FDU' 'FDY' 'FDS' 'FDF'\n",
      " 'NCB' 'DRI' 'FDW' 'FDC' 'FDR' 'FDV' 'DRJ' 'FDE' 'NCS' 'DRH' 'NCX' 'DRZ'\n",
      " 'FDB' 'FDK' 'FDL' 'FDM' 'NCP' 'NCL' 'DRK' 'FDI' 'FDZ' 'NCI' 'FDJ' 'FDG'\n",
      " 'NCZ' 'FDQ' 'FDD' 'DRG' 'NCR' 'FDT' 'DRB' 'DRE' 'DRA' 'NCF' 'NCH' 'NCO'\n",
      " 'NCN' 'NCC' 'DRD' 'DRF' 'DRL' 'NCM' 'NCU' 'DRY' 'NCW' 'DRM' 'NCT' 'NCQ'\n",
      " 'DRP' 'DRQ' 'NCK' 'NCY' 'DRN' 'NCA' 'NCE' 'NCJ' 'NCV' 'NCG' 'DRO']\n",
      "Item_Identifier_id --> ['15' '01' '07' '19' '36' '10' '17' '28' '03' '32' '46' '49' '42' '11'\n",
      " '02' '22' '12' '30' '37' '06' '59' '51' '14' '38' '33' '23' '29' '20'\n",
      " '34' '43' '50' '39' '05' '40' '13' '18' '21' '54' '35' '26' '27' '09'\n",
      " '45' '58' '48' '04' '25' '55' '44' '41' '56' '57' '47' '60' '52' '16'\n",
      " '53' '31' '24' '08']\n"
     ]
    }
   ],
   "source": [
    "for i in categorical_features:\n",
    "    print(i,'-->',df_sal[i].unique())"
   ]
  },
  {
   "cell_type": "code",
   "execution_count": null,
   "id": "37910ac9-af9b-4980-9eed-c5bdda242d61",
   "metadata": {},
   "outputs": [],
   "source": []
  },
  {
   "cell_type": "code",
   "execution_count": 393,
   "id": "746131ae-822c-4ec1-9030-f28a9cb70a8a",
   "metadata": {},
   "outputs": [],
   "source": [
    "## Item_Fat_Content\n",
    "fat_content_Val={'low fat':'Low Fat','LF':'Low Fat','reg':'Regular'}\n",
    "df_sal['Item_Fat_Content']=df_sal['Item_Fat_Content'].replace(fat_content_Val)"
   ]
  },
  {
   "cell_type": "code",
   "execution_count": 398,
   "id": "3ad9e96b-f623-4787-bb03-55ff365ceaac",
   "metadata": {},
   "outputs": [],
   "source": [
    "## Outlet:\n",
    "df_sal['Outlet_Identifier']=df_sal['Outlet_Identifier'].str.replace('OUT','')"
   ]
  },
  {
   "cell_type": "code",
   "execution_count": 367,
   "id": "cc8eca77-417a-4c27-9daa-646e11734280",
   "metadata": {},
   "outputs": [],
   "source": [
    "# df_sal['Item_Identifier_Code']=df_sal['Item_Identifier'].apply(lambda x: re.findall('^[A-Z]+',x)[0])"
   ]
  },
  {
   "cell_type": "code",
   "execution_count": 380,
   "id": "a6a5ecb3-f90b-4ef8-b70b-b13d8cabb59a",
   "metadata": {},
   "outputs": [],
   "source": [
    "df_sal['Item_Identifier_Code']=df_sal['Item_Identifier'].str.extract('([A-Za-z]+)')\n",
    "df_sal['Item_Identifier_id']=df_sal[['Item_Identifier','Item_Identifier_Code']].apply(lambda x: x['Item_Identifier'].replace(x['Item_Identifier_Code'],''),axis=1)"
   ]
  },
  {
   "cell_type": "markdown",
   "id": "751d82c0-c666-4efa-8a1d-81ddd0566b8e",
   "metadata": {},
   "source": [
    "Item Identifier Column Handling:\n",
    "I notice Item_Identifier has Product Code followed by ID. So Instead of making label encode on all the values. I have splitter \n",
    "the code and ID into two column and will do label encoding on the code column only."
   ]
  },
  {
   "cell_type": "code",
   "execution_count": 403,
   "id": "f0dd08e4-0cb9-4974-9a18-9c857c037ffc",
   "metadata": {},
   "outputs": [],
   "source": [
    "label_objects={}\n",
    "for i in ['Item_Fat_Content','Item_Type','Outlet_Size','Outlet_Location_Type','Outlet_Type','Item_Identifier_Code']:\n",
    "    le=LabelEncoder()\n",
    "    df_sal[i]=le.fit_transform(df_sal[i])\n",
    "    label_objects[i]=le"
   ]
  },
  {
   "cell_type": "code",
   "execution_count": 409,
   "id": "c6c865bb-de46-4c7e-b0a3-e393ab250b2b",
   "metadata": {},
   "outputs": [],
   "source": [
    "## Dropping the unwanted columns:\n",
    "drop_col=['Item_Identifier','Item_Visibility_pecrange','Outlet_Establishment_Year']\n",
    "df_sal.drop(drop_col,inplace=True,axis=1)"
   ]
  },
  {
   "cell_type": "code",
   "execution_count": 414,
   "id": "6a375780-70eb-4ec7-8b48-2664ab6f3a3c",
   "metadata": {},
   "outputs": [],
   "source": [
    "df_sal=df_sal[['Item_Identifier_Code','Item_Identifier_id','Item_Weight', 'Item_Fat_Content', 'Item_Visibility', 'Item_Type',\n",
    "       'Item_MRP', 'Outlet_Identifier', 'Outlet_Size', 'Outlet_Location_Type',\n",
    "       'Outlet_Type','Item_Outlet_Sales']]"
   ]
  },
  {
   "cell_type": "code",
   "execution_count": null,
   "id": "7d0d7427-27d5-42b3-9eb0-4155783000f0",
   "metadata": {},
   "outputs": [],
   "source": [
    "for i in df_sal.columns:\n",
    "    if df_sal[i].dtypes=='O':\n",
    "        print(i)\n",
    "        df_sal[i]=df_sal[i].apply(lambda x: str(x).strip())\n"
   ]
  },
  {
   "cell_type": "code",
   "execution_count": 426,
   "id": "d98076ed-8bf0-4517-8aaf-aecf50a284ae",
   "metadata": {},
   "outputs": [
    {
     "data": {
      "image/png": "[encoded data removed]",
      "text/plain": [
       "<Figure size 1000x1000 with 3 Axes>"
      ]
     },
     "metadata": {},
     "output_type": "display_data"
    }
   ],
   "source": [
    "fig=plt.figure(figsize=(10,10))\n",
    "num_col=['Item_Weight','Item_Visibility','Item_MRP']\n",
    "p=1\n",
    "for i in num_col:\n",
    "    axe=plt.subplot(2,2,p)\n",
    "    sns.distplot(a=df_sal[i],ax=axe)\n",
    "    p+=1\n",
    "# df_sal"
   ]
  },
  {
   "cell_type": "markdown",
   "id": "1c0252f1-25bb-489f-9bd5-a9086fd3d2b0",
   "metadata": {},
   "source": [
    "Item_Visibility is Right skewed and remaining two column data has been dispersed by there is some distortion in the center"
   ]
  },
  {
   "cell_type": "code",
   "execution_count": 430,
   "id": "d90e56a9-0012-429e-badf-01337847de4c",
   "metadata": {},
   "outputs": [
    {
     "data": {
      "image/png": "[encoded data removed]",
      "text/plain": [
       "<Figure size 1000x1000 with 3 Axes>"
      ]
     },
     "metadata": {},
     "output_type": "display_data"
    }
   ],
   "source": [
    "## Outlier Check for the Numerical valiable\n",
    "fig=plt.figure(figsize=(10,10))\n",
    "num_col=['Item_Weight','Item_Visibility','Item_MRP']\n",
    "p=1\n",
    "for i in num_col:\n",
    "    axe=plt.subplot(2,2,p)\n",
    "    sns.boxplot(data=df_sal[i],ax=axe)\n",
    "    p+=1\n",
    "# df_sal"
   ]
  },
  {
   "cell_type": "code",
   "execution_count": 577,
   "id": "3268e99b-c4fa-413b-aad2-dcb53ea91b8f",
   "metadata": {},
   "outputs": [
    {
     "data": {
      "image/png": "[encoded data removed]",
      "text/plain": [
       "<Figure size 1000x1000 with 3 Axes>"
      ]
     },
     "metadata": {},
     "output_type": "display_data"
    }
   ],
   "source": [
    "## Outlier Check for the Numerical valiable\n",
    "fig=plt.figure(figsize=(10,10))\n",
    "num_col=['Item_Weight','Item_Visibility','Item_MRP']\n",
    "p=1\n",
    "for i in num_col:\n",
    "    axe=plt.subplot(2,2,p)\n",
    "    sns.boxplot(data=df_sal_test[i],ax=axe)\n",
    "    p+=1\n",
    "# df_sal"
   ]
  },
  {
   "cell_type": "markdown",
   "id": "110e73f6-5fbc-481d-8444-07fe033c9f1a",
   "metadata": {},
   "source": [
    "We don't have outlier for the Item_Weight and Item_MRP. But we have for Item_Visibility that we need to handle it"
   ]
  },
  {
   "cell_type": "markdown",
   "id": "5d1b76fb-9d3c-4985-a6b5-c2e8fd6c015b",
   "metadata": {},
   "source": [
    "Creating a Generalized Outlier function to handle the same for test data as well"
   ]
  },
  {
   "cell_type": "code",
   "execution_count": 438,
   "id": "905f4e44-9ef8-4316-b278-f2cebfbddcd9",
   "metadata": {},
   "outputs": [],
   "source": [
    "df_sal_bk=df_sal.copy()"
   ]
  },
  {
   "cell_type": "code",
   "execution_count": 579,
   "id": "e0cb673b-63f1-408c-9345-85c37add5378",
   "metadata": {},
   "outputs": [],
   "source": [
    "def Outlier_handle(df,col_name):        \n",
    "    IQR=df[col_name].quantile(0.75)-df[col_name].quantile(0.25)\n",
    "    min_scale=df[col_name].quantile(0.25)-IQR*1.5\n",
    "    max_scale=df[col_name].quantile(0.75)+IQR*1.5\n",
    "    print('IQR: ',IQR)\n",
    "    print('min_scale: ',min_scale)\n",
    "    print('max_scale: ',max_scale)\n",
    "    if (df[col_name]<= min_scale).any() or (df[col_name]>= max_scale).any():\n",
    "        df.loc[df[col_name]<= min_scale,col_name]=min_scale\n",
    "        df.loc[df[col_name]>= max_scale,col_name]=max_scale\n",
    "    "
   ]
  },
  {
   "cell_type": "code",
   "execution_count": 456,
   "id": "7fa95bae-c603-4776-a74e-2653f0058463",
   "metadata": {},
   "outputs": [
    {
     "name": "stdout",
     "output_type": "stream",
     "text": [
      "IQR:  0.067595815\n",
      "min_scale:  -0.07440424500000001\n",
      "max_scale:  0.195979015\n"
     ]
    }
   ],
   "source": [
    "Outlier_handle('Item_Visibility')"
   ]
  },
  {
   "cell_type": "code",
   "execution_count": 459,
   "id": "5c53770a-31de-47d6-a8b9-f1c2d0ff9330",
   "metadata": {},
   "outputs": [
    {
     "data": {
      "image/png": "[encoded data removed]",
      "text/plain": [
       "<Figure size 1000x1000 with 1 Axes>"
      ]
     },
     "metadata": {},
     "output_type": "display_data"
    }
   ],
   "source": [
    "## Outlier Check for the Numerical valiable\n",
    "fig=plt.figure(figsize=(10,10))\n",
    "num_col=['Item_Visibility']\n",
    "p=1\n",
    "for i in num_col:\n",
    "    axe=plt.subplot(2,2,p)\n",
    "    sns.boxplot(data=df_sal[i],ax=axe)\n",
    "    p+=1\n",
    "# df_sal"
   ]
  },
  {
   "cell_type": "markdown",
   "id": "1f08860f-d415-41a8-88c4-4a148373548a",
   "metadata": {},
   "source": [
    "After removing the outliers. Yes data is some what skewed. we can apply some standratization techniques. "
   ]
  },
  {
   "cell_type": "code",
   "execution_count": 499,
   "id": "7ee3268e-76ac-4331-8829-53cae4fb1d2b",
   "metadata": {},
   "outputs": [
    {
     "data": {
      "text/html": [
       "<div>\n",
       "<style scoped>\n",
       "    .dataframe tbody tr th:only-of-type {\n",
       "        vertical-align: middle;\n",
       "    }\n",
       "\n",
       "    .dataframe tbody tr th {\n",
       "        vertical-align: top;\n",
       "    }\n",
       "\n",
       "    .dataframe thead th {\n",
       "        text-align: right;\n",
       "    }\n",
       "</style>\n",
       "<table border=\"1\" class=\"dataframe\">\n",
       "  <thead>\n",
       "    <tr style=\"text-align: right;\">\n",
       "      <th></th>\n",
       "      <th>Item_Weight</th>\n",
       "      <th>Item_Visibility</th>\n",
       "      <th>Item_MRP</th>\n",
       "      <th>Item_Outlet_Sales</th>\n",
       "    </tr>\n",
       "  </thead>\n",
       "  <tbody>\n",
       "    <tr>\n",
       "      <th>Item_Weight</th>\n",
       "      <td>1.000000</td>\n",
       "      <td>-0.009487</td>\n",
       "      <td>0.021361</td>\n",
       "      <td>0.009487</td>\n",
       "    </tr>\n",
       "    <tr>\n",
       "      <th>Item_Visibility</th>\n",
       "      <td>-0.009487</td>\n",
       "      <td>1.000000</td>\n",
       "      <td>-0.001163</td>\n",
       "      <td>-0.117918</td>\n",
       "    </tr>\n",
       "    <tr>\n",
       "      <th>Item_MRP</th>\n",
       "      <td>0.021361</td>\n",
       "      <td>-0.001163</td>\n",
       "      <td>1.000000</td>\n",
       "      <td>0.567574</td>\n",
       "    </tr>\n",
       "    <tr>\n",
       "      <th>Item_Outlet_Sales</th>\n",
       "      <td>0.009487</td>\n",
       "      <td>-0.117918</td>\n",
       "      <td>0.567574</td>\n",
       "      <td>1.000000</td>\n",
       "    </tr>\n",
       "  </tbody>\n",
       "</table>\n",
       "</div>"
      ],
      "text/plain": [
       "                   Item_Weight  Item_Visibility  Item_MRP  Item_Outlet_Sales\n",
       "Item_Weight           1.000000        -0.009487  0.021361           0.009487\n",
       "Item_Visibility      -0.009487         1.000000 -0.001163          -0.117918\n",
       "Item_MRP              0.021361        -0.001163  1.000000           0.567574\n",
       "Item_Outlet_Sales     0.009487        -0.117918  0.567574           1.000000"
      ]
     },
     "execution_count": 499,
     "metadata": {},
     "output_type": "execute_result"
    }
   ],
   "source": [
    "features_lst=['Item_Weight','Item_Visibility','Item_MRP','Item_Outlet_Sales']\n",
    "df_sal[features_lst].corr()"
   ]
  },
  {
   "cell_type": "markdown",
   "id": "4eed495f-4b18-4ea6-980a-38373f62dd79",
   "metadata": {},
   "source": [
    "We can see Item visibility has very low corellation with the Output variable"
   ]
  },
  {
   "cell_type": "code",
   "execution_count": 501,
   "id": "15727d0f-3d15-45d1-aebc-21b11c3eb59d",
   "metadata": {},
   "outputs": [
    {
     "data": {
      "text/html": [
       "<div>\n",
       "<style scoped>\n",
       "    .dataframe tbody tr th:only-of-type {\n",
       "        vertical-align: middle;\n",
       "    }\n",
       "\n",
       "    .dataframe tbody tr th {\n",
       "        vertical-align: top;\n",
       "    }\n",
       "\n",
       "    .dataframe thead th {\n",
       "        text-align: right;\n",
       "    }\n",
       "</style>\n",
       "<table border=\"1\" class=\"dataframe\">\n",
       "  <thead>\n",
       "    <tr style=\"text-align: right;\">\n",
       "      <th></th>\n",
       "      <th>Item_Identifier_Code</th>\n",
       "      <th>Item_Identifier_id</th>\n",
       "      <th>Item_Weight</th>\n",
       "      <th>Item_Fat_Content</th>\n",
       "      <th>Item_Visibility</th>\n",
       "      <th>Item_Type</th>\n",
       "      <th>Item_MRP</th>\n",
       "      <th>Outlet_Identifier</th>\n",
       "      <th>Outlet_Size</th>\n",
       "      <th>Outlet_Location_Type</th>\n",
       "      <th>Outlet_Type</th>\n",
       "      <th>Item_Outlet_Sales</th>\n",
       "    </tr>\n",
       "  </thead>\n",
       "  <tbody>\n",
       "    <tr>\n",
       "      <th>0</th>\n",
       "      <td>19</td>\n",
       "      <td>15</td>\n",
       "      <td>9.300</td>\n",
       "      <td>0</td>\n",
       "      <td>0.016047</td>\n",
       "      <td>4</td>\n",
       "      <td>249.8092</td>\n",
       "      <td>049</td>\n",
       "      <td>1</td>\n",
       "      <td>0</td>\n",
       "      <td>1</td>\n",
       "      <td>3735.1380</td>\n",
       "    </tr>\n",
       "    <tr>\n",
       "      <th>1</th>\n",
       "      <td>2</td>\n",
       "      <td>01</td>\n",
       "      <td>5.920</td>\n",
       "      <td>1</td>\n",
       "      <td>0.019278</td>\n",
       "      <td>14</td>\n",
       "      <td>48.2692</td>\n",
       "      <td>018</td>\n",
       "      <td>1</td>\n",
       "      <td>2</td>\n",
       "      <td>2</td>\n",
       "      <td>443.4228</td>\n",
       "    </tr>\n",
       "    <tr>\n",
       "      <th>2</th>\n",
       "      <td>32</td>\n",
       "      <td>15</td>\n",
       "      <td>17.500</td>\n",
       "      <td>0</td>\n",
       "      <td>0.016760</td>\n",
       "      <td>10</td>\n",
       "      <td>141.6180</td>\n",
       "      <td>049</td>\n",
       "      <td>1</td>\n",
       "      <td>0</td>\n",
       "      <td>1</td>\n",
       "      <td>2097.2700</td>\n",
       "    </tr>\n",
       "    <tr>\n",
       "      <th>3</th>\n",
       "      <td>42</td>\n",
       "      <td>07</td>\n",
       "      <td>19.200</td>\n",
       "      <td>1</td>\n",
       "      <td>0.000000</td>\n",
       "      <td>6</td>\n",
       "      <td>182.0950</td>\n",
       "      <td>010</td>\n",
       "      <td>0</td>\n",
       "      <td>2</td>\n",
       "      <td>0</td>\n",
       "      <td>732.3800</td>\n",
       "    </tr>\n",
       "    <tr>\n",
       "      <th>4</th>\n",
       "      <td>48</td>\n",
       "      <td>19</td>\n",
       "      <td>8.930</td>\n",
       "      <td>0</td>\n",
       "      <td>0.000000</td>\n",
       "      <td>9</td>\n",
       "      <td>53.8614</td>\n",
       "      <td>013</td>\n",
       "      <td>0</td>\n",
       "      <td>2</td>\n",
       "      <td>1</td>\n",
       "      <td>994.7052</td>\n",
       "    </tr>\n",
       "    <tr>\n",
       "      <th>...</th>\n",
       "      <td>...</td>\n",
       "      <td>...</td>\n",
       "      <td>...</td>\n",
       "      <td>...</td>\n",
       "      <td>...</td>\n",
       "      <td>...</td>\n",
       "      <td>...</td>\n",
       "      <td>...</td>\n",
       "      <td>...</td>\n",
       "      <td>...</td>\n",
       "      <td>...</td>\n",
       "      <td>...</td>\n",
       "    </tr>\n",
       "    <tr>\n",
       "      <th>8518</th>\n",
       "      <td>24</td>\n",
       "      <td>22</td>\n",
       "      <td>6.865</td>\n",
       "      <td>0</td>\n",
       "      <td>0.056783</td>\n",
       "      <td>13</td>\n",
       "      <td>214.5218</td>\n",
       "      <td>013</td>\n",
       "      <td>0</td>\n",
       "      <td>2</td>\n",
       "      <td>1</td>\n",
       "      <td>2778.3834</td>\n",
       "    </tr>\n",
       "    <tr>\n",
       "      <th>8519</th>\n",
       "      <td>37</td>\n",
       "      <td>36</td>\n",
       "      <td>8.380</td>\n",
       "      <td>1</td>\n",
       "      <td>0.046982</td>\n",
       "      <td>0</td>\n",
       "      <td>108.1570</td>\n",
       "      <td>045</td>\n",
       "      <td>2</td>\n",
       "      <td>1</td>\n",
       "      <td>1</td>\n",
       "      <td>549.2850</td>\n",
       "    </tr>\n",
       "    <tr>\n",
       "      <th>8520</th>\n",
       "      <td>54</td>\n",
       "      <td>29</td>\n",
       "      <td>10.600</td>\n",
       "      <td>0</td>\n",
       "      <td>0.035186</td>\n",
       "      <td>8</td>\n",
       "      <td>85.1224</td>\n",
       "      <td>035</td>\n",
       "      <td>2</td>\n",
       "      <td>1</td>\n",
       "      <td>1</td>\n",
       "      <td>1193.1136</td>\n",
       "    </tr>\n",
       "    <tr>\n",
       "      <th>8521</th>\n",
       "      <td>32</td>\n",
       "      <td>46</td>\n",
       "      <td>7.210</td>\n",
       "      <td>1</td>\n",
       "      <td>0.145221</td>\n",
       "      <td>13</td>\n",
       "      <td>103.1332</td>\n",
       "      <td>018</td>\n",
       "      <td>1</td>\n",
       "      <td>2</td>\n",
       "      <td>2</td>\n",
       "      <td>1845.5976</td>\n",
       "    </tr>\n",
       "    <tr>\n",
       "      <th>8522</th>\n",
       "      <td>6</td>\n",
       "      <td>01</td>\n",
       "      <td>14.800</td>\n",
       "      <td>0</td>\n",
       "      <td>0.044878</td>\n",
       "      <td>14</td>\n",
       "      <td>75.4670</td>\n",
       "      <td>046</td>\n",
       "      <td>2</td>\n",
       "      <td>0</td>\n",
       "      <td>1</td>\n",
       "      <td>765.6700</td>\n",
       "    </tr>\n",
       "  </tbody>\n",
       "</table>\n",
       "<p>8523 rows × 12 columns</p>\n",
       "</div>"
      ],
      "text/plain": [
       "      Item_Identifier_Code Item_Identifier_id  Item_Weight  Item_Fat_Content  \\\n",
       "0                       19                 15        9.300                 0   \n",
       "1                        2                 01        5.920                 1   \n",
       "2                       32                 15       17.500                 0   \n",
       "3                       42                 07       19.200                 1   \n",
       "4                       48                 19        8.930                 0   \n",
       "...                    ...                ...          ...               ...   \n",
       "8518                    24                 22        6.865                 0   \n",
       "8519                    37                 36        8.380                 1   \n",
       "8520                    54                 29       10.600                 0   \n",
       "8521                    32                 46        7.210                 1   \n",
       "8522                     6                 01       14.800                 0   \n",
       "\n",
       "      Item_Visibility  Item_Type  Item_MRP Outlet_Identifier  Outlet_Size  \\\n",
       "0            0.016047          4  249.8092               049            1   \n",
       "1            0.019278         14   48.2692               018            1   \n",
       "2            0.016760         10  141.6180               049            1   \n",
       "3            0.000000          6  182.0950               010            0   \n",
       "4            0.000000          9   53.8614               013            0   \n",
       "...               ...        ...       ...               ...          ...   \n",
       "8518         0.056783         13  214.5218               013            0   \n",
       "8519         0.046982          0  108.1570               045            2   \n",
       "8520         0.035186          8   85.1224               035            2   \n",
       "8521         0.145221         13  103.1332               018            1   \n",
       "8522         0.044878         14   75.4670               046            2   \n",
       "\n",
       "      Outlet_Location_Type  Outlet_Type  Item_Outlet_Sales  \n",
       "0                        0            1          3735.1380  \n",
       "1                        2            2           443.4228  \n",
       "2                        0            1          2097.2700  \n",
       "3                        2            0           732.3800  \n",
       "4                        2            1           994.7052  \n",
       "...                    ...          ...                ...  \n",
       "8518                     2            1          2778.3834  \n",
       "8519                     1            1           549.2850  \n",
       "8520                     1            1          1193.1136  \n",
       "8521                     2            2          1845.5976  \n",
       "8522                     0            1           765.6700  \n",
       "\n",
       "[8523 rows x 12 columns]"
      ]
     },
     "execution_count": 501,
     "metadata": {},
     "output_type": "execute_result"
    }
   ],
   "source": [
    "df_sal"
   ]
  },
  {
   "cell_type": "code",
   "execution_count": null,
   "id": "b5dea53d-2501-4c90-bc9f-9ab2db774035",
   "metadata": {},
   "outputs": [],
   "source": []
  },
  {
   "cell_type": "code",
   "execution_count": null,
   "id": "205aef1e-8ab7-4a7f-8d60-caa296a64a6e",
   "metadata": {},
   "outputs": [],
   "source": []
  },
  {
   "cell_type": "code",
   "execution_count": null,
   "id": "2bb54eca-703f-45b9-98c3-c52181a37cef",
   "metadata": {},
   "outputs": [],
   "source": []
  },
  {
   "cell_type": "code",
   "execution_count": null,
   "id": "6c94f036-bfd8-47e8-b196-191e37d6819a",
   "metadata": {},
   "outputs": [],
   "source": []
  },
  {
   "cell_type": "code",
   "execution_count": null,
   "id": "a98771a4-a6f1-4480-824c-feb40ab647b3",
   "metadata": {},
   "outputs": [],
   "source": []
  },
  {
   "cell_type": "code",
   "execution_count": null,
   "id": "7df054b6-4570-4289-b356-1c8feb46c200",
   "metadata": {},
   "outputs": [],
   "source": []
  },
  {
   "cell_type": "markdown",
   "id": "4e6156f5-a12d-4d7f-a22e-ac7df8869585",
   "metadata": {},
   "source": []
  },
  {
   "cell_type": "markdown",
   "id": "90a9e839-56a7-4599-a7ff-26bbff0c2bd3",
   "metadata": {},
   "source": [
    "### Need to test if we can add the below dropped variable"
   ]
  },
  {
   "cell_type": "code",
   "execution_count": 763,
   "id": "bb9423ae-fabe-4b60-be7b-992c35228a42",
   "metadata": {},
   "outputs": [],
   "source": [
    "# 'Item_Visibility','Item_Outlet_Sales','Item_Fat_Content','Outlet_Size'  -> Notice these featues are not required based on RF\n",
    "X=df_sal.drop(['Item_Visibility','Item_Outlet_Sales','Item_Fat_Content','Outlet_Size','Outlet_Location_Type'],axis=1)\n",
    "y=df_sal['Item_Outlet_Sales']"
   ]
  },
  {
   "cell_type": "code",
   "execution_count": 764,
   "id": "1cb278fa-921b-4627-8f65-33a3db336bf1",
   "metadata": {},
   "outputs": [
    {
     "data": {
      "text/html": [
       "<style>#sk-container-id-26 {color: black;background-color: white;}#sk-container-id-26 pre{padding: 0;}#sk-container-id-26 div.sk-toggleable {background-color: white;}#sk-container-id-26 label.sk-toggleable__label {cursor: pointer;display: block;width: 100%;margin-bottom: 0;padding: 0.3em;box-sizing: border-box;text-align: center;}#sk-container-id-26 label.sk-toggleable__label-arrow:before {content: \"▸\";float: left;margin-right: 0.25em;color: #696969;}#sk-container-id-26 label.sk-toggleable__label-arrow:hover:before {color: black;}#sk-container-id-26 div.sk-estimator:hover label.sk-toggleable__label-arrow:before {color: black;}#sk-container-id-26 div.sk-toggleable__content {max-height: 0;max-width: 0;overflow: hidden;text-align: left;background-color: #f0f8ff;}#sk-container-id-26 div.sk-toggleable__content pre {margin: 0.2em;color: black;border-radius: 0.25em;background-color: #f0f8ff;}#sk-container-id-26 input.sk-toggleable__control:checked~div.sk-toggleable__content {max-height: 200px;max-width: 100%;overflow: auto;}#sk-container-id-26 input.sk-toggleable__control:checked~label.sk-toggleable__label-arrow:before {content: \"▾\";}#sk-container-id-26 div.sk-estimator input.sk-toggleable__control:checked~label.sk-toggleable__label {background-color: #d4ebff;}#sk-container-id-26 div.sk-label input.sk-toggleable__control:checked~label.sk-toggleable__label {background-color: #d4ebff;}#sk-container-id-26 input.sk-hidden--visually {border: 0;clip: rect(1px 1px 1px 1px);clip: rect(1px, 1px, 1px, 1px);height: 1px;margin: -1px;overflow: hidden;padding: 0;position: absolute;width: 1px;}#sk-container-id-26 div.sk-estimator {font-family: monospace;background-color: #f0f8ff;border: 1px dotted black;border-radius: 0.25em;box-sizing: border-box;margin-bottom: 0.5em;}#sk-container-id-26 div.sk-estimator:hover {background-color: #d4ebff;}#sk-container-id-26 div.sk-parallel-item::after {content: \"\";width: 100%;border-bottom: 1px solid gray;flex-grow: 1;}#sk-container-id-26 div.sk-label:hover label.sk-toggleable__label {background-color: #d4ebff;}#sk-container-id-26 div.sk-serial::before {content: \"\";position: absolute;border-left: 1px solid gray;box-sizing: border-box;top: 0;bottom: 0;left: 50%;z-index: 0;}#sk-container-id-26 div.sk-serial {display: flex;flex-direction: column;align-items: center;background-color: white;padding-right: 0.2em;padding-left: 0.2em;position: relative;}#sk-container-id-26 div.sk-item {position: relative;z-index: 1;}#sk-container-id-26 div.sk-parallel {display: flex;align-items: stretch;justify-content: center;background-color: white;position: relative;}#sk-container-id-26 div.sk-item::before, #sk-container-id-26 div.sk-parallel-item::before {content: \"\";position: absolute;border-left: 1px solid gray;box-sizing: border-box;top: 0;bottom: 0;left: 50%;z-index: -1;}#sk-container-id-26 div.sk-parallel-item {display: flex;flex-direction: column;z-index: 1;position: relative;background-color: white;}#sk-container-id-26 div.sk-parallel-item:first-child::after {align-self: flex-end;width: 50%;}#sk-container-id-26 div.sk-parallel-item:last-child::after {align-self: flex-start;width: 50%;}#sk-container-id-26 div.sk-parallel-item:only-child::after {width: 0;}#sk-container-id-26 div.sk-dashed-wrapped {border: 1px dashed gray;margin: 0 0.4em 0.5em 0.4em;box-sizing: border-box;padding-bottom: 0.4em;background-color: white;}#sk-container-id-26 div.sk-label label {font-family: monospace;font-weight: bold;display: inline-block;line-height: 1.2em;}#sk-container-id-26 div.sk-label-container {text-align: center;}#sk-container-id-26 div.sk-container {/* jupyter's `normalize.less` sets `[hidden] { display: none; }` but bootstrap.min.css set `[hidden] { display: none !important; }` so we also need the `!important` here to be able to override the default hidden behavior on the sphinx rendered scikit-learn.org. See: https://github.com/scikit-learn/scikit-learn/issues/21755 */display: inline-block !important;position: relative;}#sk-container-id-26 div.sk-text-repr-fallback {display: none;}</style><div id=\"sk-container-id-26\" class=\"sk-top-container\"><div class=\"sk-text-repr-fallback\"><pre>StandardScaler()</pre><b>In a Jupyter environment, please rerun this cell to show the HTML representation or trust the notebook. <br />On GitHub, the HTML representation is unable to render, please try loading this page with nbviewer.org.</b></div><div class=\"sk-container\" hidden><div class=\"sk-item\"><div class=\"sk-estimator sk-toggleable\"><input class=\"sk-toggleable__control sk-hidden--visually\" id=\"sk-estimator-id-30\" type=\"checkbox\" checked><label for=\"sk-estimator-id-30\" class=\"sk-toggleable__label sk-toggleable__label-arrow\">StandardScaler</label><div class=\"sk-toggleable__content\"><pre>StandardScaler()</pre></div></div></div></div></div>"
      ],
      "text/plain": [
       "StandardScaler()"
      ]
     },
     "execution_count": 764,
     "metadata": {},
     "output_type": "execute_result"
    }
   ],
   "source": [
    "X_train,X_test,y_train,y_test=train_test_split(X,y,test_size=0.3,random_state=42)\n",
    "scaler=StandardScaler()\n",
    "scaler.fit(X_train)"
   ]
  },
  {
   "cell_type": "code",
   "execution_count": 765,
   "id": "703fa39c-ee1c-4b17-a8ec-449d3aec12d8",
   "metadata": {},
   "outputs": [],
   "source": [
    "X_train_scaled=scaler.transform(X_train)\n",
    "X_test_scaled=scaler.transform(X_test)"
   ]
  },
  {
   "cell_type": "code",
   "execution_count": 754,
   "id": "d8d6910b-6eb3-4264-a805-059882eab0cd",
   "metadata": {},
   "outputs": [
    {
     "data": {
      "text/html": [
       "<div>\n",
       "<style scoped>\n",
       "    .dataframe tbody tr th:only-of-type {\n",
       "        vertical-align: middle;\n",
       "    }\n",
       "\n",
       "    .dataframe tbody tr th {\n",
       "        vertical-align: top;\n",
       "    }\n",
       "\n",
       "    .dataframe thead th {\n",
       "        text-align: right;\n",
       "    }\n",
       "</style>\n",
       "<table border=\"1\" class=\"dataframe\">\n",
       "  <thead>\n",
       "    <tr style=\"text-align: right;\">\n",
       "      <th></th>\n",
       "      <th>Item_Identifier_Code</th>\n",
       "      <th>Item_Identifier_id</th>\n",
       "      <th>Item_Weight</th>\n",
       "      <th>Item_Type</th>\n",
       "      <th>Item_MRP</th>\n",
       "      <th>Outlet_Type</th>\n",
       "    </tr>\n",
       "  </thead>\n",
       "  <tbody>\n",
       "    <tr>\n",
       "      <th>1921</th>\n",
       "      <td>32</td>\n",
       "      <td>08</td>\n",
       "      <td>7.72</td>\n",
       "      <td>6</td>\n",
       "      <td>116.6466</td>\n",
       "      <td>0</td>\n",
       "    </tr>\n",
       "    <tr>\n",
       "      <th>655</th>\n",
       "      <td>54</td>\n",
       "      <td>42</td>\n",
       "      <td>19.75</td>\n",
       "      <td>9</td>\n",
       "      <td>103.0332</td>\n",
       "      <td>1</td>\n",
       "    </tr>\n",
       "  </tbody>\n",
       "</table>\n",
       "</div>"
      ],
      "text/plain": [
       "      Item_Identifier_Code Item_Identifier_id  Item_Weight  Item_Type  \\\n",
       "1921                    32                 08         7.72          6   \n",
       "655                     54                 42        19.75          9   \n",
       "\n",
       "      Item_MRP  Outlet_Type  \n",
       "1921  116.6466            0  \n",
       "655   103.0332            1  "
      ]
     },
     "execution_count": 754,
     "metadata": {},
     "output_type": "execute_result"
    }
   ],
   "source": [
    "X_train.head(2)"
   ]
  },
  {
   "cell_type": "code",
   "execution_count": 690,
   "id": "8da7c729-8a62-49c0-8a85-b79bd626097d",
   "metadata": {},
   "outputs": [],
   "source": []
  },
  {
   "cell_type": "code",
   "execution_count": 758,
   "id": "a9fde05b-848d-474c-8b0c-ff79d9421055",
   "metadata": {},
   "outputs": [
    {
     "data": {
      "text/html": [
       "<style>#sk-container-id-25 {color: black;background-color: white;}#sk-container-id-25 pre{padding: 0;}#sk-container-id-25 div.sk-toggleable {background-color: white;}#sk-container-id-25 label.sk-toggleable__label {cursor: pointer;display: block;width: 100%;margin-bottom: 0;padding: 0.3em;box-sizing: border-box;text-align: center;}#sk-container-id-25 label.sk-toggleable__label-arrow:before {content: \"▸\";float: left;margin-right: 0.25em;color: #696969;}#sk-container-id-25 label.sk-toggleable__label-arrow:hover:before {color: black;}#sk-container-id-25 div.sk-estimator:hover label.sk-toggleable__label-arrow:before {color: black;}#sk-container-id-25 div.sk-toggleable__content {max-height: 0;max-width: 0;overflow: hidden;text-align: left;background-color: #f0f8ff;}#sk-container-id-25 div.sk-toggleable__content pre {margin: 0.2em;color: black;border-radius: 0.25em;background-color: #f0f8ff;}#sk-container-id-25 input.sk-toggleable__control:checked~div.sk-toggleable__content {max-height: 200px;max-width: 100%;overflow: auto;}#sk-container-id-25 input.sk-toggleable__control:checked~label.sk-toggleable__label-arrow:before {content: \"▾\";}#sk-container-id-25 div.sk-estimator input.sk-toggleable__control:checked~label.sk-toggleable__label {background-color: #d4ebff;}#sk-container-id-25 div.sk-label input.sk-toggleable__control:checked~label.sk-toggleable__label {background-color: #d4ebff;}#sk-container-id-25 input.sk-hidden--visually {border: 0;clip: rect(1px 1px 1px 1px);clip: rect(1px, 1px, 1px, 1px);height: 1px;margin: -1px;overflow: hidden;padding: 0;position: absolute;width: 1px;}#sk-container-id-25 div.sk-estimator {font-family: monospace;background-color: #f0f8ff;border: 1px dotted black;border-radius: 0.25em;box-sizing: border-box;margin-bottom: 0.5em;}#sk-container-id-25 div.sk-estimator:hover {background-color: #d4ebff;}#sk-container-id-25 div.sk-parallel-item::after {content: \"\";width: 100%;border-bottom: 1px solid gray;flex-grow: 1;}#sk-container-id-25 div.sk-label:hover label.sk-toggleable__label {background-color: #d4ebff;}#sk-container-id-25 div.sk-serial::before {content: \"\";position: absolute;border-left: 1px solid gray;box-sizing: border-box;top: 0;bottom: 0;left: 50%;z-index: 0;}#sk-container-id-25 div.sk-serial {display: flex;flex-direction: column;align-items: center;background-color: white;padding-right: 0.2em;padding-left: 0.2em;position: relative;}#sk-container-id-25 div.sk-item {position: relative;z-index: 1;}#sk-container-id-25 div.sk-parallel {display: flex;align-items: stretch;justify-content: center;background-color: white;position: relative;}#sk-container-id-25 div.sk-item::before, #sk-container-id-25 div.sk-parallel-item::before {content: \"\";position: absolute;border-left: 1px solid gray;box-sizing: border-box;top: 0;bottom: 0;left: 50%;z-index: -1;}#sk-container-id-25 div.sk-parallel-item {display: flex;flex-direction: column;z-index: 1;position: relative;background-color: white;}#sk-container-id-25 div.sk-parallel-item:first-child::after {align-self: flex-end;width: 50%;}#sk-container-id-25 div.sk-parallel-item:last-child::after {align-self: flex-start;width: 50%;}#sk-container-id-25 div.sk-parallel-item:only-child::after {width: 0;}#sk-container-id-25 div.sk-dashed-wrapped {border: 1px dashed gray;margin: 0 0.4em 0.5em 0.4em;box-sizing: border-box;padding-bottom: 0.4em;background-color: white;}#sk-container-id-25 div.sk-label label {font-family: monospace;font-weight: bold;display: inline-block;line-height: 1.2em;}#sk-container-id-25 div.sk-label-container {text-align: center;}#sk-container-id-25 div.sk-container {/* jupyter's `normalize.less` sets `[hidden] { display: none; }` but bootstrap.min.css set `[hidden] { display: none !important; }` so we also need the `!important` here to be able to override the default hidden behavior on the sphinx rendered scikit-learn.org. See: https://github.com/scikit-learn/scikit-learn/issues/21755 */display: inline-block !important;position: relative;}#sk-container-id-25 div.sk-text-repr-fallback {display: none;}</style><div id=\"sk-container-id-25\" class=\"sk-top-container\"><div class=\"sk-text-repr-fallback\"><pre>RandomForestRegressor(max_depth=10, random_state=42)</pre><b>In a Jupyter environment, please rerun this cell to show the HTML representation or trust the notebook. <br />On GitHub, the HTML representation is unable to render, please try loading this page with nbviewer.org.</b></div><div class=\"sk-container\" hidden><div class=\"sk-item\"><div class=\"sk-estimator sk-toggleable\"><input class=\"sk-toggleable__control sk-hidden--visually\" id=\"sk-estimator-id-29\" type=\"checkbox\" checked><label for=\"sk-estimator-id-29\" class=\"sk-toggleable__label sk-toggleable__label-arrow\">RandomForestRegressor</label><div class=\"sk-toggleable__content\"><pre>RandomForestRegressor(max_depth=10, random_state=42)</pre></div></div></div></div></div>"
      ],
      "text/plain": [
       "RandomForestRegressor(max_depth=10, random_state=42)"
      ]
     },
     "execution_count": 758,
     "metadata": {},
     "output_type": "execute_result"
    }
   ],
   "source": [
    "RF=RandomForestRegressor(n_estimators=100,random_state=42,max_depth=10)\n",
    "RF.fit(X_train_scaled,y_train)"
   ]
  },
  {
   "cell_type": "code",
   "execution_count": 759,
   "id": "c16e8fad-efd1-4360-94c5-6475285cc3be",
   "metadata": {},
   "outputs": [],
   "source": [
    "y_predict=RF.predict(X_test_scaled)"
   ]
  },
  {
   "cell_type": "code",
   "execution_count": 760,
   "id": "81e8e92a-2bf5-4cce-8d1f-54ccf3ef6252",
   "metadata": {},
   "outputs": [
    {
     "name": "stdout",
     "output_type": "stream",
     "text": [
      "Mean Square Error- 1166982.958571528\n",
      "Mean Square Error- 1080.269854513921\n",
      "Mean absolute error-  749.5661626528654\n",
      "Mean absolute error-  749.5661626528654\n"
     ]
    }
   ],
   "source": [
    "print('Mean Square Error-',mean_squared_error(y_test,y_predict))\n",
    "print('Mean Square Error-',np.sqrt(mean_squared_error(y_test,y_predict)))\n",
    "print('Mean absolute error- ',mean_absolute_error(y_test,y_predict))\n",
    "print('Mean absolute error- ',mean_absolute_error(y_test,y_predict))"
   ]
  },
  {
   "cell_type": "code",
   "execution_count": 761,
   "id": "6300e096-e2e5-48b0-a5e6-e9b791155334",
   "metadata": {},
   "outputs": [
    {
     "data": {
      "text/plain": [
       "0.5833682058984124"
      ]
     },
     "execution_count": 761,
     "metadata": {},
     "output_type": "execute_result"
    }
   ],
   "source": [
    "r2_score(y_test,y_predict)"
   ]
  },
  {
   "cell_type": "code",
   "execution_count": 762,
   "id": "e608c320-395d-49ce-8e36-1595f109347b",
   "metadata": {},
   "outputs": [
    {
     "data": {
      "text/html": [
       "<div>\n",
       "<style scoped>\n",
       "    .dataframe tbody tr th:only-of-type {\n",
       "        vertical-align: middle;\n",
       "    }\n",
       "\n",
       "    .dataframe tbody tr th {\n",
       "        vertical-align: top;\n",
       "    }\n",
       "\n",
       "    .dataframe thead th {\n",
       "        text-align: right;\n",
       "    }\n",
       "</style>\n",
       "<table border=\"1\" class=\"dataframe\">\n",
       "  <thead>\n",
       "    <tr style=\"text-align: right;\">\n",
       "      <th></th>\n",
       "      <th>0</th>\n",
       "      <th>1</th>\n",
       "      <th>2</th>\n",
       "      <th>3</th>\n",
       "      <th>4</th>\n",
       "      <th>5</th>\n",
       "      <th>6</th>\n",
       "      <th>7</th>\n",
       "      <th>8</th>\n",
       "      <th>9</th>\n",
       "    </tr>\n",
       "  </thead>\n",
       "  <tbody>\n",
       "    <tr>\n",
       "      <th>0</th>\n",
       "      <td>0.030874</td>\n",
       "      <td>0.031412</td>\n",
       "      <td>0.041393</td>\n",
       "      <td>0.00365</td>\n",
       "      <td>0.016003</td>\n",
       "      <td>0.499323</td>\n",
       "      <td>0.008217</td>\n",
       "      <td>0.002668</td>\n",
       "      <td>0.002507</td>\n",
       "      <td>0.363953</td>\n",
       "    </tr>\n",
       "    <tr>\n",
       "      <th>1</th>\n",
       "      <td>Item_Identifier_Code</td>\n",
       "      <td>Item_Identifier_id</td>\n",
       "      <td>Item_Weight</td>\n",
       "      <td>Item_Fat_Content</td>\n",
       "      <td>Item_Type</td>\n",
       "      <td>Item_MRP</td>\n",
       "      <td>Outlet_Identifier</td>\n",
       "      <td>Outlet_Size</td>\n",
       "      <td>Outlet_Location_Type</td>\n",
       "      <td>Outlet_Type</td>\n",
       "    </tr>\n",
       "  </tbody>\n",
       "</table>\n",
       "</div>"
      ],
      "text/plain": [
       "                      0                   1            2                 3  \\\n",
       "0              0.030874            0.031412     0.041393           0.00365   \n",
       "1  Item_Identifier_Code  Item_Identifier_id  Item_Weight  Item_Fat_Content   \n",
       "\n",
       "           4         5                  6            7                     8  \\\n",
       "0   0.016003  0.499323           0.008217     0.002668              0.002507   \n",
       "1  Item_Type  Item_MRP  Outlet_Identifier  Outlet_Size  Outlet_Location_Type   \n",
       "\n",
       "             9  \n",
       "0     0.363953  \n",
       "1  Outlet_Type  "
      ]
     },
     "execution_count": 762,
     "metadata": {},
     "output_type": "execute_result"
    }
   ],
   "source": [
    "pd.DataFrame(data=[RF.feature_importances_,X.columns])"
   ]
  },
  {
   "cell_type": "markdown",
   "id": "37362ec5-5603-4b7d-a484-3c21c7757fac",
   "metadata": {},
   "source": [
    "From Above feature Importance we can see that 'Item_Fat_Content','Outlet_Location_Type','Outlet_Size' no contributing much. \n",
    "So as a feature importance and to increace the accuracy rate. Dropping these feature "
   ]
  },
  {
   "cell_type": "code",
   "execution_count": 725,
   "id": "f4ab5a8b-6f27-4661-b9a5-5a23746478aa",
   "metadata": {},
   "outputs": [],
   "source": []
  },
  {
   "cell_type": "code",
   "execution_count": 729,
   "id": "5c72262b-a9b9-48bc-8480-22bcc931b9b3",
   "metadata": {},
   "outputs": [],
   "source": [
    "space={'max_depth': [3, 18, 1],\n",
    "        'gamma': [1,9],\n",
    "        'reg_alpha' : [40,180,1],\n",
    "        'reg_lambda' : [0,1],\n",
    "        'min_child_weight' : [0, 10, 1],\n",
    "        'n_estimators': [100],\n",
    "    }"
   ]
  },
  {
   "cell_type": "code",
   "execution_count": 766,
   "id": "7654bdb8-a69e-42b4-b0f4-a36915d122ce",
   "metadata": {},
   "outputs": [
    {
     "data": {
      "text/html": [
       "<style>#sk-container-id-27 {color: black;background-color: white;}#sk-container-id-27 pre{padding: 0;}#sk-container-id-27 div.sk-toggleable {background-color: white;}#sk-container-id-27 label.sk-toggleable__label {cursor: pointer;display: block;width: 100%;margin-bottom: 0;padding: 0.3em;box-sizing: border-box;text-align: center;}#sk-container-id-27 label.sk-toggleable__label-arrow:before {content: \"▸\";float: left;margin-right: 0.25em;color: #696969;}#sk-container-id-27 label.sk-toggleable__label-arrow:hover:before {color: black;}#sk-container-id-27 div.sk-estimator:hover label.sk-toggleable__label-arrow:before {color: black;}#sk-container-id-27 div.sk-toggleable__content {max-height: 0;max-width: 0;overflow: hidden;text-align: left;background-color: #f0f8ff;}#sk-container-id-27 div.sk-toggleable__content pre {margin: 0.2em;color: black;border-radius: 0.25em;background-color: #f0f8ff;}#sk-container-id-27 input.sk-toggleable__control:checked~div.sk-toggleable__content {max-height: 200px;max-width: 100%;overflow: auto;}#sk-container-id-27 input.sk-toggleable__control:checked~label.sk-toggleable__label-arrow:before {content: \"▾\";}#sk-container-id-27 div.sk-estimator input.sk-toggleable__control:checked~label.sk-toggleable__label {background-color: #d4ebff;}#sk-container-id-27 div.sk-label input.sk-toggleable__control:checked~label.sk-toggleable__label {background-color: #d4ebff;}#sk-container-id-27 input.sk-hidden--visually {border: 0;clip: rect(1px 1px 1px 1px);clip: rect(1px, 1px, 1px, 1px);height: 1px;margin: -1px;overflow: hidden;padding: 0;position: absolute;width: 1px;}#sk-container-id-27 div.sk-estimator {font-family: monospace;background-color: #f0f8ff;border: 1px dotted black;border-radius: 0.25em;box-sizing: border-box;margin-bottom: 0.5em;}#sk-container-id-27 div.sk-estimator:hover {background-color: #d4ebff;}#sk-container-id-27 div.sk-parallel-item::after {content: \"\";width: 100%;border-bottom: 1px solid gray;flex-grow: 1;}#sk-container-id-27 div.sk-label:hover label.sk-toggleable__label {background-color: #d4ebff;}#sk-container-id-27 div.sk-serial::before {content: \"\";position: absolute;border-left: 1px solid gray;box-sizing: border-box;top: 0;bottom: 0;left: 50%;z-index: 0;}#sk-container-id-27 div.sk-serial {display: flex;flex-direction: column;align-items: center;background-color: white;padding-right: 0.2em;padding-left: 0.2em;position: relative;}#sk-container-id-27 div.sk-item {position: relative;z-index: 1;}#sk-container-id-27 div.sk-parallel {display: flex;align-items: stretch;justify-content: center;background-color: white;position: relative;}#sk-container-id-27 div.sk-item::before, #sk-container-id-27 div.sk-parallel-item::before {content: \"\";position: absolute;border-left: 1px solid gray;box-sizing: border-box;top: 0;bottom: 0;left: 50%;z-index: -1;}#sk-container-id-27 div.sk-parallel-item {display: flex;flex-direction: column;z-index: 1;position: relative;background-color: white;}#sk-container-id-27 div.sk-parallel-item:first-child::after {align-self: flex-end;width: 50%;}#sk-container-id-27 div.sk-parallel-item:last-child::after {align-self: flex-start;width: 50%;}#sk-container-id-27 div.sk-parallel-item:only-child::after {width: 0;}#sk-container-id-27 div.sk-dashed-wrapped {border: 1px dashed gray;margin: 0 0.4em 0.5em 0.4em;box-sizing: border-box;padding-bottom: 0.4em;background-color: white;}#sk-container-id-27 div.sk-label label {font-family: monospace;font-weight: bold;display: inline-block;line-height: 1.2em;}#sk-container-id-27 div.sk-label-container {text-align: center;}#sk-container-id-27 div.sk-container {/* jupyter's `normalize.less` sets `[hidden] { display: none; }` but bootstrap.min.css set `[hidden] { display: none !important; }` so we also need the `!important` here to be able to override the default hidden behavior on the sphinx rendered scikit-learn.org. See: https://github.com/scikit-learn/scikit-learn/issues/21755 */display: inline-block !important;position: relative;}#sk-container-id-27 div.sk-text-repr-fallback {display: none;}</style><div id=\"sk-container-id-27\" class=\"sk-top-container\"><div class=\"sk-text-repr-fallback\"><pre>GridSearchCV(cv=2,\n",
       "             estimator=XGBRegressor(base_score=None, booster=None,\n",
       "                                    callbacks=None, colsample_bylevel=None,\n",
       "                                    colsample_bynode=None,\n",
       "                                    colsample_bytree=None, device=None,\n",
       "                                    early_stopping_rounds=None,\n",
       "                                    enable_categorical=False, eval_metric=None,\n",
       "                                    feature_types=None, feature_weights=None,\n",
       "                                    gamma=None, grow_policy=None,\n",
       "                                    importance_type=None,\n",
       "                                    interaction_constraints=None...\n",
       "                                    max_cat_to_onehot=None, max_delta_step=None,\n",
       "                                    max_depth=10, max_leaves=None,\n",
       "                                    min_child_weight=None, missing=nan,\n",
       "                                    monotone_constraints=None,\n",
       "                                    multi_strategy=None, n_estimators=100,\n",
       "                                    n_jobs=None, num_parallel_tree=None, ...),\n",
       "             n_jobs=-1,\n",
       "             param_grid={&#x27;gamma&#x27;: [1, 9], &#x27;max_depth&#x27;: [3, 18, 1],\n",
       "                         &#x27;min_child_weight&#x27;: [0, 10, 1], &#x27;n_estimators&#x27;: [100],\n",
       "                         &#x27;reg_alpha&#x27;: [40, 180, 1], &#x27;reg_lambda&#x27;: [0, 1]})</pre><b>In a Jupyter environment, please rerun this cell to show the HTML representation or trust the notebook. <br />On GitHub, the HTML representation is unable to render, please try loading this page with nbviewer.org.</b></div><div class=\"sk-container\" hidden><div class=\"sk-item sk-dashed-wrapped\"><div class=\"sk-label-container\"><div class=\"sk-label sk-toggleable\"><input class=\"sk-toggleable__control sk-hidden--visually\" id=\"sk-estimator-id-31\" type=\"checkbox\" ><label for=\"sk-estimator-id-31\" class=\"sk-toggleable__label sk-toggleable__label-arrow\">GridSearchCV</label><div class=\"sk-toggleable__content\"><pre>GridSearchCV(cv=2,\n",
       "             estimator=XGBRegressor(base_score=None, booster=None,\n",
       "                                    callbacks=None, colsample_bylevel=None,\n",
       "                                    colsample_bynode=None,\n",
       "                                    colsample_bytree=None, device=None,\n",
       "                                    early_stopping_rounds=None,\n",
       "                                    enable_categorical=False, eval_metric=None,\n",
       "                                    feature_types=None, feature_weights=None,\n",
       "                                    gamma=None, grow_policy=None,\n",
       "                                    importance_type=None,\n",
       "                                    interaction_constraints=None...\n",
       "                                    max_cat_to_onehot=None, max_delta_step=None,\n",
       "                                    max_depth=10, max_leaves=None,\n",
       "                                    min_child_weight=None, missing=nan,\n",
       "                                    monotone_constraints=None,\n",
       "                                    multi_strategy=None, n_estimators=100,\n",
       "                                    n_jobs=None, num_parallel_tree=None, ...),\n",
       "             n_jobs=-1,\n",
       "             param_grid={&#x27;gamma&#x27;: [1, 9], &#x27;max_depth&#x27;: [3, 18, 1],\n",
       "                         &#x27;min_child_weight&#x27;: [0, 10, 1], &#x27;n_estimators&#x27;: [100],\n",
       "                         &#x27;reg_alpha&#x27;: [40, 180, 1], &#x27;reg_lambda&#x27;: [0, 1]})</pre></div></div></div><div class=\"sk-parallel\"><div class=\"sk-parallel-item\"><div class=\"sk-item\"><div class=\"sk-label-container\"><div class=\"sk-label sk-toggleable\"><input class=\"sk-toggleable__control sk-hidden--visually\" id=\"sk-estimator-id-32\" type=\"checkbox\" ><label for=\"sk-estimator-id-32\" class=\"sk-toggleable__label sk-toggleable__label-arrow\">estimator: XGBRegressor</label><div class=\"sk-toggleable__content\"><pre>XGBRegressor(base_score=None, booster=None, callbacks=None,\n",
       "             colsample_bylevel=None, colsample_bynode=None,\n",
       "             colsample_bytree=None, device=None, early_stopping_rounds=None,\n",
       "             enable_categorical=False, eval_metric=None, feature_types=None,\n",
       "             feature_weights=None, gamma=None, grow_policy=None,\n",
       "             importance_type=None, interaction_constraints=None,\n",
       "             learning_rate=0.01, max_bin=None, max_cat_threshold=None,\n",
       "             max_cat_to_onehot=None, max_delta_step=None, max_depth=10,\n",
       "             max_leaves=None, min_child_weight=None, missing=nan,\n",
       "             monotone_constraints=None, multi_strategy=None, n_estimators=100,\n",
       "             n_jobs=None, num_parallel_tree=None, ...)</pre></div></div></div><div class=\"sk-serial\"><div class=\"sk-item\"><div class=\"sk-estimator sk-toggleable\"><input class=\"sk-toggleable__control sk-hidden--visually\" id=\"sk-estimator-id-33\" type=\"checkbox\" ><label for=\"sk-estimator-id-33\" class=\"sk-toggleable__label sk-toggleable__label-arrow\">XGBRegressor</label><div class=\"sk-toggleable__content\"><pre>XGBRegressor(base_score=None, booster=None, callbacks=None,\n",
       "             colsample_bylevel=None, colsample_bynode=None,\n",
       "             colsample_bytree=None, device=None, early_stopping_rounds=None,\n",
       "             enable_categorical=False, eval_metric=None, feature_types=None,\n",
       "             feature_weights=None, gamma=None, grow_policy=None,\n",
       "             importance_type=None, interaction_constraints=None,\n",
       "             learning_rate=0.01, max_bin=None, max_cat_threshold=None,\n",
       "             max_cat_to_onehot=None, max_delta_step=None, max_depth=10,\n",
       "             max_leaves=None, min_child_weight=None, missing=nan,\n",
       "             monotone_constraints=None, multi_strategy=None, n_estimators=100,\n",
       "             n_jobs=None, num_parallel_tree=None, ...)</pre></div></div></div></div></div></div></div></div></div></div>"
      ],
      "text/plain": [
       "GridSearchCV(cv=2,\n",
       "             estimator=XGBRegressor(base_score=None, booster=None,\n",
       "                                    callbacks=None, colsample_bylevel=None,\n",
       "                                    colsample_bynode=None,\n",
       "                                    colsample_bytree=None, device=None,\n",
       "                                    early_stopping_rounds=None,\n",
       "                                    enable_categorical=False, eval_metric=None,\n",
       "                                    feature_types=None, feature_weights=None,\n",
       "                                    gamma=None, grow_policy=None,\n",
       "                                    importance_type=None,\n",
       "                                    interaction_constraints=None...\n",
       "                                    max_cat_to_onehot=None, max_delta_step=None,\n",
       "                                    max_depth=10, max_leaves=None,\n",
       "                                    min_child_weight=None, missing=nan,\n",
       "                                    monotone_constraints=None,\n",
       "                                    multi_strategy=None, n_estimators=100,\n",
       "                                    n_jobs=None, num_parallel_tree=None, ...),\n",
       "             n_jobs=-1,\n",
       "             param_grid={'gamma': [1, 9], 'max_depth': [3, 18, 1],\n",
       "                         'min_child_weight': [0, 10, 1], 'n_estimators': [100],\n",
       "                         'reg_alpha': [40, 180, 1], 'reg_lambda': [0, 1]})"
      ]
     },
     "execution_count": 766,
     "metadata": {},
     "output_type": "execute_result"
    }
   ],
   "source": [
    "GCV=GridSearchCV(estimator=XGBRegressor(n_estimators=100,random_state=42,max_depth=10,learning_rate=0.01),param_grid=space,cv=2,n_jobs=-1)\n",
    "GCV.fit(X_train_scaled,y_train)"
   ]
  },
  {
   "cell_type": "code",
   "execution_count": 767,
   "id": "853d9fa9-285e-4922-9485-f834c4fd37c7",
   "metadata": {},
   "outputs": [
    {
     "name": "stdout",
     "output_type": "stream",
     "text": [
      "{'gamma': 9, 'max_depth': 18, 'min_child_weight': 10, 'n_estimators': 100, 'reg_alpha': 1, 'reg_lambda': 0}\n",
      "0.49775296093986926\n"
     ]
    }
   ],
   "source": [
    "print(GCV.best_params_)\n",
    "print(GCV.best_score_)"
   ]
  },
  {
   "cell_type": "code",
   "execution_count": 768,
   "id": "22eef459-d6b2-43f1-b035-227bc83d429c",
   "metadata": {},
   "outputs": [],
   "source": [
    "XGB=XGBRegressor(n_estimators=100,random_state=42,max_depth=18,learning_rate=0.01,gamma=9,min_child_weight=10,reg_alpha=1,reg_lambda=0)\n",
    "XGB.fit(X_train_scaled,y_train)\n",
    "y_predict_xb=XGB.predict(X_test_scaled)"
   ]
  },
  {
   "cell_type": "code",
   "execution_count": 769,
   "id": "81cca575-938d-4101-9529-c75428ef54bf",
   "metadata": {},
   "outputs": [
    {
     "name": "stdout",
     "output_type": "stream",
     "text": [
      "Mean Square Error- 1357648.1580149762\n",
      "Mean Square Error- 1165.181598728274\n",
      "Mean absolute error-  880.656138068102\n",
      "Mean absolute error-  880.656138068102\n"
     ]
    }
   ],
   "source": [
    "print('Mean Square Error-',mean_squared_error(y_test,y_predict_xb))\n",
    "print('Mean Square Error-',np.sqrt(mean_squared_error(y_test,y_predict_xb)))\n",
    "print('Mean absolute error- ',mean_absolute_error(y_test,y_predict_xb))\n",
    "print('Mean absolute error- ',mean_absolute_error(y_test,y_predict_xb))"
   ]
  },
  {
   "cell_type": "code",
   "execution_count": 770,
   "id": "fb78108a-56c0-4dcf-813c-d91e6fdd8a65",
   "metadata": {},
   "outputs": [
    {
     "data": {
      "text/plain": [
       "0.5833682058984124"
      ]
     },
     "execution_count": 770,
     "metadata": {},
     "output_type": "execute_result"
    }
   ],
   "source": [
    "r2_score(y_test,y_predict)"
   ]
  },
  {
   "cell_type": "code",
   "execution_count": 699,
   "id": "ab86e5ea-574a-4dec-924c-b84ab731490f",
   "metadata": {},
   "outputs": [],
   "source": [
    "GB=GradientBoostingRegressor(n_estimators=100,random_state=42,max_depth=10,learning_rate=0.1)\n",
    "GB.fit(X_train_scaled,y_train)\n",
    "y_predict_GB=GB.predict(X_test_scaled)"
   ]
  },
  {
   "cell_type": "code",
   "execution_count": 700,
   "id": "d2efafb2-6d8b-48e4-b5b0-3d0277aa3118",
   "metadata": {},
   "outputs": [
    {
     "name": "stdout",
     "output_type": "stream",
     "text": [
      "Mean Square Error- 1407071.8793799998\n",
      "Mean Square Error- 1186.2006067187792\n",
      "Mean absolute error-  824.3290334999282\n",
      "Mean absolute error-  824.3290334999282\n",
      "r2_Score 0.4976525773319166\n"
     ]
    }
   ],
   "source": [
    "print('Mean Square Error-',mean_squared_error(y_test,y_predict_GB))\n",
    "print('Mean Square Error-',np.sqrt(mean_squared_error(y_test,y_predict_GB)))\n",
    "print('Mean absolute error- ',mean_absolute_error(y_test,y_predict_GB))\n",
    "print('Mean absolute error- ',mean_absolute_error(y_test,y_predict_GB))\n",
    "print('r2_Score',r2_score(y_test,y_predict_GB))"
   ]
  },
  {
   "cell_type": "code",
   "execution_count": 771,
   "id": "70228713-aa66-4e22-be96-d2a239e4d4f9",
   "metadata": {},
   "outputs": [
    {
     "name": "stdout",
     "output_type": "stream",
     "text": [
      "0:\tlearn: 1722.2998844\ttotal: 2.18ms\tremaining: 216ms\n",
      "99:\tlearn: 1249.4541692\ttotal: 137ms\tremaining: 0us\n",
      "0:\tlearn: 1716.3315741\ttotal: 2.65ms\tremaining: 262ms\n",
      "99:\tlearn: 1234.1542582\ttotal: 142ms\tremaining: 0us\n",
      "0:\tlearn: 1693.9975979\ttotal: 2.47ms\tremaining: 245ms\n",
      "99:\tlearn: 1224.4491439\ttotal: 141ms\tremaining: 0us\n",
      "0:\tlearn: 1650.5129271\ttotal: 1.43ms\tremaining: 141ms\n",
      "99:\tlearn: 1060.8146015\ttotal: 132ms\tremaining: 0us\n",
      "0:\tlearn: 1636.9045060\ttotal: 1.4ms\tremaining: 139ms\n",
      "99:\tlearn: 1040.5218387\ttotal: 123ms\tremaining: 0us\n",
      "0:\tlearn: 1617.8497529\ttotal: 1.97ms\tremaining: 195ms\n",
      "99:\tlearn: 1042.6039640\ttotal: 143ms\tremaining: 0us\n",
      "0:\tlearn: 1689.9655702\ttotal: 1.38ms\tremaining: 137ms\n",
      "99:\tlearn: 1083.8872433\ttotal: 144ms\tremaining: 0us\n",
      "0:\tlearn: 1680.6050602\ttotal: 1.42ms\tremaining: 140ms\n",
      "99:\tlearn: 1063.8751991\ttotal: 140ms\tremaining: 0us\n",
      "0:\tlearn: 1659.7249861\ttotal: 1.77ms\tremaining: 175ms\n",
      "99:\tlearn: 1063.7413605\ttotal: 131ms\tremaining: 0us\n",
      "0:\tlearn: 1722.2998844\ttotal: 1.33ms\tremaining: 666ms\n",
      "200:\tlearn: 1131.7818188\ttotal: 279ms\tremaining: 415ms\n",
      "400:\tlearn: 1090.9201893\ttotal: 539ms\tremaining: 133ms\n",
      "499:\tlearn: 1083.6491502\ttotal: 659ms\tremaining: 0us\n",
      "0:\tlearn: 1716.3315741\ttotal: 1.78ms\tremaining: 890ms\n",
      "200:\tlearn: 1115.0130120\ttotal: 264ms\tremaining: 393ms\n",
      "400:\tlearn: 1071.5542426\ttotal: 530ms\tremaining: 131ms\n",
      "499:\tlearn: 1063.9119108\ttotal: 653ms\tremaining: 0us\n",
      "0:\tlearn: 1693.9975979\ttotal: 1.53ms\tremaining: 765ms\n",
      "200:\tlearn: 1109.9924802\ttotal: 258ms\tremaining: 383ms\n",
      "400:\tlearn: 1070.0328885\ttotal: 515ms\tremaining: 127ms\n",
      "499:\tlearn: 1063.5437772\ttotal: 640ms\tremaining: 0us\n",
      "0:\tlearn: 1650.5129271\ttotal: 1.38ms\tremaining: 691ms\n",
      "200:\tlearn: 1018.2617088\ttotal: 267ms\tremaining: 398ms\n",
      "400:\tlearn: 970.0962102\ttotal: 525ms\tremaining: 130ms\n",
      "499:\tlearn: 945.1729644\ttotal: 659ms\tremaining: 0us\n",
      "0:\tlearn: 1636.9045060\ttotal: 2.07ms\tremaining: 1.03s\n",
      "200:\tlearn: 997.7360007\ttotal: 286ms\tremaining: 426ms\n",
      "400:\tlearn: 941.5880753\ttotal: 575ms\tremaining: 142ms\n",
      "499:\tlearn: 918.2676578\ttotal: 715ms\tremaining: 0us\n",
      "0:\tlearn: 1617.8497529\ttotal: 1.94ms\tremaining: 966ms\n",
      "200:\tlearn: 1013.3102033\ttotal: 275ms\tremaining: 410ms\n",
      "400:\tlearn: 959.5087546\ttotal: 546ms\tremaining: 135ms\n",
      "499:\tlearn: 938.7342757\ttotal: 672ms\tremaining: 0us\n",
      "0:\tlearn: 1689.9655702\ttotal: 1.5ms\tremaining: 747ms\n",
      "200:\tlearn: 1059.6625375\ttotal: 266ms\tremaining: 396ms\n",
      "400:\tlearn: 1015.9530728\ttotal: 531ms\tremaining: 131ms\n",
      "499:\tlearn: 1000.3382968\ttotal: 658ms\tremaining: 0us\n",
      "0:\tlearn: 1680.6050602\ttotal: 1.38ms\tremaining: 691ms\n",
      "200:\tlearn: 1037.3520676\ttotal: 250ms\tremaining: 373ms\n",
      "400:\tlearn: 995.2495462\ttotal: 505ms\tremaining: 125ms\n",
      "499:\tlearn: 978.8966184\ttotal: 626ms\tremaining: 0us\n",
      "0:\tlearn: 1659.7249861\ttotal: 1.34ms\tremaining: 669ms\n",
      "200:\tlearn: 1042.7353890\ttotal: 253ms\tremaining: 376ms\n",
      "400:\tlearn: 1015.0302644\ttotal: 502ms\tremaining: 124ms\n",
      "499:\tlearn: 1000.5432906\ttotal: 623ms\tremaining: 0us\n",
      "0:\tlearn: 1722.2998844\ttotal: 1.41ms\tremaining: 1.4s\n",
      "200:\tlearn: 1131.7818188\ttotal: 255ms\tremaining: 1.01s\n",
      "400:\tlearn: 1090.9201893\ttotal: 508ms\tremaining: 758ms\n",
      "600:\tlearn: 1078.0584998\ttotal: 756ms\tremaining: 502ms\n",
      "800:\tlearn: 1068.4378578\ttotal: 1.01s\tremaining: 250ms\n",
      "999:\tlearn: 1059.0610727\ttotal: 1.26s\tremaining: 0us\n",
      "0:\tlearn: 1716.3315741\ttotal: 1.44ms\tremaining: 1.44s\n",
      "200:\tlearn: 1115.0130120\ttotal: 255ms\tremaining: 1.01s\n",
      "400:\tlearn: 1071.5542426\ttotal: 518ms\tremaining: 774ms\n",
      "600:\tlearn: 1057.8824158\ttotal: 770ms\tremaining: 511ms\n",
      "800:\tlearn: 1047.3803548\ttotal: 1.09s\tremaining: 271ms\n",
      "999:\tlearn: 1037.2825707\ttotal: 1.38s\tremaining: 0us\n",
      "0:\tlearn: 1693.9975979\ttotal: 1.38ms\tremaining: 1.37s\n",
      "200:\tlearn: 1109.9924802\ttotal: 263ms\tremaining: 1.05s\n",
      "400:\tlearn: 1070.0328885\ttotal: 522ms\tremaining: 780ms\n",
      "600:\tlearn: 1058.2002973\ttotal: 775ms\tremaining: 515ms\n",
      "800:\tlearn: 1049.4771704\ttotal: 1.03s\tremaining: 257ms\n",
      "999:\tlearn: 1042.5381437\ttotal: 1.3s\tremaining: 0us\n",
      "0:\tlearn: 1650.5129271\ttotal: 1.41ms\tremaining: 1.41s\n",
      "200:\tlearn: 1018.2617088\ttotal: 252ms\tremaining: 1s\n",
      "400:\tlearn: 970.0962102\ttotal: 505ms\tremaining: 754ms\n",
      "600:\tlearn: 925.0800757\ttotal: 756ms\tremaining: 502ms\n",
      "800:\tlearn: 889.3825828\ttotal: 1.01s\tremaining: 251ms\n",
      "999:\tlearn: 858.5568140\ttotal: 1.26s\tremaining: 0us\n",
      "0:\tlearn: 1636.9045060\ttotal: 1.5ms\tremaining: 1.5s\n",
      "200:\tlearn: 997.7360007\ttotal: 255ms\tremaining: 1.01s\n",
      "400:\tlearn: 941.5880753\ttotal: 505ms\tremaining: 755ms\n",
      "600:\tlearn: 895.8364308\ttotal: 759ms\tremaining: 504ms\n",
      "800:\tlearn: 861.2229205\ttotal: 1s\tremaining: 250ms\n",
      "999:\tlearn: 833.3389656\ttotal: 1.25s\tremaining: 0us\n",
      "0:\tlearn: 1617.8497529\ttotal: 1.49ms\tremaining: 1.49s\n",
      "200:\tlearn: 1013.3102033\ttotal: 249ms\tremaining: 991ms\n",
      "400:\tlearn: 959.5087546\ttotal: 498ms\tremaining: 744ms\n",
      "600:\tlearn: 918.0909396\ttotal: 755ms\tremaining: 501ms\n",
      "800:\tlearn: 884.0073430\ttotal: 1s\tremaining: 249ms\n",
      "999:\tlearn: 852.7384232\ttotal: 1.25s\tremaining: 0us\n",
      "0:\tlearn: 1689.9655702\ttotal: 1.6ms\tremaining: 1.6s\n",
      "200:\tlearn: 1059.6625375\ttotal: 256ms\tremaining: 1.02s\n",
      "400:\tlearn: 1015.9530728\ttotal: 504ms\tremaining: 753ms\n",
      "600:\tlearn: 989.3925677\ttotal: 757ms\tremaining: 502ms\n",
      "800:\tlearn: 967.5742229\ttotal: 1.01s\tremaining: 252ms\n",
      "999:\tlearn: 945.7075892\ttotal: 1.26s\tremaining: 0us\n",
      "0:\tlearn: 1680.6050602\ttotal: 1.41ms\tremaining: 1.4s\n",
      "200:\tlearn: 1037.3520676\ttotal: 260ms\tremaining: 1.03s\n",
      "400:\tlearn: 995.2495462\ttotal: 508ms\tremaining: 759ms\n",
      "600:\tlearn: 963.9497385\ttotal: 764ms\tremaining: 507ms\n",
      "800:\tlearn: 939.1782639\ttotal: 1.02s\tremaining: 252ms\n",
      "999:\tlearn: 917.9818039\ttotal: 1.26s\tremaining: 0us\n",
      "0:\tlearn: 1659.7249861\ttotal: 1.42ms\tremaining: 1.41s\n",
      "200:\tlearn: 1042.7353890\ttotal: 255ms\tremaining: 1.01s\n",
      "400:\tlearn: 1015.0302644\ttotal: 507ms\tremaining: 757ms\n",
      "600:\tlearn: 987.3409392\ttotal: 756ms\tremaining: 502ms\n",
      "800:\tlearn: 962.8408029\ttotal: 1.01s\tremaining: 251ms\n",
      "999:\tlearn: 938.8486119\ttotal: 1.26s\tremaining: 0us\n",
      "0:\tlearn: 1721.4869198\ttotal: 3.61ms\tremaining: 357ms\n",
      "99:\tlearn: 1238.7233754\ttotal: 227ms\tremaining: 0us\n",
      "0:\tlearn: 1716.0477399\ttotal: 2.3ms\tremaining: 227ms\n",
      "99:\tlearn: 1222.5381277\ttotal: 209ms\tremaining: 0us\n",
      "0:\tlearn: 1693.4237082\ttotal: 2.4ms\tremaining: 238ms\n",
      "99:\tlearn: 1214.3268982\ttotal: 212ms\tremaining: 0us\n",
      "0:\tlearn: 1642.2482503\ttotal: 2.66ms\tremaining: 263ms\n",
      "99:\tlearn: 1023.3111150\ttotal: 205ms\tremaining: 0us\n",
      "0:\tlearn: 1634.0112529\ttotal: 2.82ms\tremaining: 279ms\n",
      "99:\tlearn: 1001.2287393\ttotal: 210ms\tremaining: 0us\n",
      "0:\tlearn: 1611.9811945\ttotal: 2.55ms\tremaining: 252ms\n",
      "99:\tlearn: 1009.1892789\ttotal: 206ms\tremaining: 0us\n",
      "0:\tlearn: 1685.8704813\ttotal: 4.11ms\tremaining: 407ms\n",
      "99:\tlearn: 1066.6309505\ttotal: 215ms\tremaining: 0us\n",
      "0:\tlearn: 1679.1736551\ttotal: 2.3ms\tremaining: 228ms\n",
      "99:\tlearn: 1044.8599619\ttotal: 207ms\tremaining: 0us\n",
      "0:\tlearn: 1656.8267596\ttotal: 2.36ms\tremaining: 234ms\n",
      "99:\tlearn: 1047.1209461\ttotal: 205ms\tremaining: 0us\n",
      "0:\tlearn: 1721.4869198\ttotal: 3.33ms\tremaining: 1.66s\n",
      "200:\tlearn: 1120.9005193\ttotal: 414ms\tremaining: 615ms\n",
      "400:\tlearn: 1075.8388272\ttotal: 825ms\tremaining: 204ms\n",
      "499:\tlearn: 1065.9637119\ttotal: 1.02s\tremaining: 0us\n",
      "0:\tlearn: 1716.0477399\ttotal: 2.56ms\tremaining: 1.27s\n",
      "200:\tlearn: 1101.8049862\ttotal: 408ms\tremaining: 607ms\n",
      "400:\tlearn: 1053.8927473\ttotal: 819ms\tremaining: 202ms\n",
      "499:\tlearn: 1042.8570536\ttotal: 1.02s\tremaining: 0us\n",
      "0:\tlearn: 1693.4237082\ttotal: 2.6ms\tremaining: 1.3s\n",
      "200:\tlearn: 1099.0938293\ttotal: 407ms\tremaining: 606ms\n",
      "400:\tlearn: 1055.8320603\ttotal: 817ms\tremaining: 202ms\n",
      "499:\tlearn: 1046.3618526\ttotal: 1.02s\tremaining: 0us\n",
      "0:\tlearn: 1642.2482503\ttotal: 3.51ms\tremaining: 1.75s\n",
      "200:\tlearn: 963.9418789\ttotal: 418ms\tremaining: 621ms\n",
      "400:\tlearn: 867.5622743\ttotal: 824ms\tremaining: 203ms\n",
      "499:\tlearn: 832.8073718\ttotal: 1.02s\tremaining: 0us\n",
      "0:\tlearn: 1634.0112529\ttotal: 2.92ms\tremaining: 1.46s\n",
      "200:\tlearn: 934.1034301\ttotal: 426ms\tremaining: 633ms\n",
      "400:\tlearn: 843.8308731\ttotal: 830ms\tremaining: 205ms\n",
      "499:\tlearn: 809.8889759\ttotal: 1.03s\tremaining: 0us\n",
      "0:\tlearn: 1611.9811945\ttotal: 3.77ms\tremaining: 1.88s\n",
      "200:\tlearn: 961.9582089\ttotal: 418ms\tremaining: 622ms\n",
      "400:\tlearn: 865.1710828\ttotal: 826ms\tremaining: 204ms\n",
      "499:\tlearn: 827.0159806\ttotal: 1.02s\tremaining: 0us\n",
      "0:\tlearn: 1685.8704813\ttotal: 2.34ms\tremaining: 1.17s\n",
      "200:\tlearn: 1026.8765814\ttotal: 411ms\tremaining: 611ms\n",
      "400:\tlearn: 967.3125709\ttotal: 808ms\tremaining: 200ms\n",
      "499:\tlearn: 941.7521118\ttotal: 1.01s\tremaining: 0us\n",
      "0:\tlearn: 1679.1736551\ttotal: 2.49ms\tremaining: 1.24s\n",
      "200:\tlearn: 1002.0371156\ttotal: 410ms\tremaining: 610ms\n",
      "400:\tlearn: 933.8051164\ttotal: 819ms\tremaining: 202ms\n",
      "499:\tlearn: 905.3233790\ttotal: 1.02s\tremaining: 0us\n",
      "0:\tlearn: 1656.8267596\ttotal: 3.63ms\tremaining: 1.81s\n",
      "200:\tlearn: 1011.1416298\ttotal: 426ms\tremaining: 633ms\n",
      "400:\tlearn: 966.3254919\ttotal: 829ms\tremaining: 205ms\n",
      "499:\tlearn: 941.2624915\ttotal: 1.03s\tremaining: 0us\n",
      "0:\tlearn: 1721.4869198\ttotal: 3.55ms\tremaining: 3.55s\n",
      "200:\tlearn: 1120.9005193\ttotal: 413ms\tremaining: 1.64s\n",
      "400:\tlearn: 1075.8388272\ttotal: 816ms\tremaining: 1.22s\n",
      "600:\tlearn: 1057.3073324\ttotal: 1.22s\tremaining: 812ms\n",
      "800:\tlearn: 1041.1178892\ttotal: 1.65s\tremaining: 410ms\n",
      "999:\tlearn: 1025.1403801\ttotal: 2.06s\tremaining: 0us\n",
      "0:\tlearn: 1716.0477399\ttotal: 2.29ms\tremaining: 2.28s\n",
      "200:\tlearn: 1101.8049862\ttotal: 406ms\tremaining: 1.61s\n",
      "400:\tlearn: 1053.8927473\ttotal: 816ms\tremaining: 1.22s\n",
      "600:\tlearn: 1033.4806290\ttotal: 1.22s\tremaining: 810ms\n",
      "800:\tlearn: 1016.8608322\ttotal: 1.63s\tremaining: 406ms\n",
      "999:\tlearn: 1001.2264186\ttotal: 2.04s\tremaining: 0us\n",
      "0:\tlearn: 1693.4237082\ttotal: 2.36ms\tremaining: 2.35s\n",
      "200:\tlearn: 1099.0938293\ttotal: 410ms\tremaining: 1.63s\n",
      "400:\tlearn: 1055.8320603\ttotal: 817ms\tremaining: 1.22s\n",
      "600:\tlearn: 1038.1673292\ttotal: 1.23s\tremaining: 815ms\n",
      "800:\tlearn: 1023.2468271\ttotal: 1.64s\tremaining: 407ms\n",
      "999:\tlearn: 1011.3486176\ttotal: 2.06s\tremaining: 0us\n",
      "0:\tlearn: 1642.2482503\ttotal: 2.3ms\tremaining: 2.3s\n",
      "200:\tlearn: 963.9418789\ttotal: 401ms\tremaining: 1.59s\n",
      "400:\tlearn: 867.5622743\ttotal: 812ms\tremaining: 1.21s\n",
      "600:\tlearn: 798.2736873\ttotal: 1.22s\tremaining: 813ms\n",
      "800:\tlearn: 742.0535141\ttotal: 1.64s\tremaining: 407ms\n",
      "999:\tlearn: 695.9521561\ttotal: 2.05s\tremaining: 0us\n",
      "0:\tlearn: 1634.0112529\ttotal: 2.51ms\tremaining: 2.5s\n",
      "200:\tlearn: 934.1034301\ttotal: 412ms\tremaining: 1.64s\n",
      "400:\tlearn: 843.8308731\ttotal: 817ms\tremaining: 1.22s\n",
      "600:\tlearn: 777.3955011\ttotal: 1.22s\tremaining: 811ms\n",
      "800:\tlearn: 722.7221785\ttotal: 1.63s\tremaining: 404ms\n",
      "999:\tlearn: 677.5827599\ttotal: 2.03s\tremaining: 0us\n",
      "0:\tlearn: 1611.9811945\ttotal: 2.3ms\tremaining: 2.29s\n",
      "200:\tlearn: 961.9582089\ttotal: 404ms\tremaining: 1.61s\n",
      "400:\tlearn: 865.1710828\ttotal: 810ms\tremaining: 1.21s\n",
      "600:\tlearn: 793.9694506\ttotal: 1.23s\tremaining: 813ms\n",
      "800:\tlearn: 738.7840883\ttotal: 1.64s\tremaining: 406ms\n",
      "999:\tlearn: 691.0444179\ttotal: 2.04s\tremaining: 0us\n",
      "0:\tlearn: 1685.8704813\ttotal: 2.28ms\tremaining: 2.28s\n",
      "200:\tlearn: 1026.8765814\ttotal: 411ms\tremaining: 1.64s\n",
      "400:\tlearn: 967.3125709\ttotal: 810ms\tremaining: 1.21s\n",
      "600:\tlearn: 919.4779190\ttotal: 1.22s\tremaining: 808ms\n",
      "800:\tlearn: 877.1794801\ttotal: 1.62s\tremaining: 403ms\n",
      "999:\tlearn: 835.9581565\ttotal: 2.04s\tremaining: 0us\n",
      "0:\tlearn: 1679.1736551\ttotal: 3.48ms\tremaining: 3.48s\n",
      "200:\tlearn: 1002.0371156\ttotal: 420ms\tremaining: 1.67s\n",
      "400:\tlearn: 933.8051164\ttotal: 825ms\tremaining: 1.23s\n",
      "600:\tlearn: 883.8459976\ttotal: 1.23s\tremaining: 817ms\n",
      "800:\tlearn: 844.2797095\ttotal: 1.64s\tremaining: 407ms\n",
      "999:\tlearn: 811.1357364\ttotal: 2.04s\tremaining: 0us\n",
      "0:\tlearn: 1656.8267596\ttotal: 2.31ms\tremaining: 2.31s\n",
      "200:\tlearn: 1011.1416298\ttotal: 409ms\tremaining: 1.63s\n",
      "400:\tlearn: 966.3254919\ttotal: 815ms\tremaining: 1.22s\n",
      "600:\tlearn: 917.7012742\ttotal: 1.22s\tremaining: 809ms\n",
      "800:\tlearn: 873.6834608\ttotal: 1.64s\tremaining: 406ms\n",
      "999:\tlearn: 837.6503703\ttotal: 2.05s\tremaining: 0us\n",
      "0:\tlearn: 1722.1653492\ttotal: 5.21ms\tremaining: 516ms\n",
      "99:\tlearn: 1243.7582636\ttotal: 397ms\tremaining: 0us\n",
      "0:\tlearn: 1716.6552480\ttotal: 4.97ms\tremaining: 492ms\n",
      "99:\tlearn: 1225.0069828\ttotal: 399ms\tremaining: 0us\n",
      "0:\tlearn: 1694.1391661\ttotal: 4.78ms\tremaining: 474ms\n",
      "99:\tlearn: 1219.2445804\ttotal: 417ms\tremaining: 0us\n",
      "0:\tlearn: 1648.8318053\ttotal: 5.19ms\tremaining: 514ms\n",
      "99:\tlearn: 979.3121180\ttotal: 438ms\tremaining: 0us\n",
      "0:\tlearn: 1639.8911442\ttotal: 4.72ms\tremaining: 468ms\n",
      "99:\tlearn: 954.7656577\ttotal: 429ms\tremaining: 0us\n",
      "0:\tlearn: 1618.9178508\ttotal: 4.84ms\tremaining: 479ms\n",
      "99:\tlearn: 962.7843209\ttotal: 420ms\tremaining: 0us\n",
      "0:\tlearn: 1689.2198858\ttotal: 4.81ms\tremaining: 477ms\n",
      "99:\tlearn: 1040.7157483\ttotal: 411ms\tremaining: 0us\n",
      "0:\tlearn: 1682.1696550\ttotal: 5.02ms\tremaining: 497ms\n",
      "99:\tlearn: 1020.7707408\ttotal: 410ms\tremaining: 0us\n",
      "0:\tlearn: 1660.3576906\ttotal: 4.86ms\tremaining: 481ms\n",
      "99:\tlearn: 1022.3467001\ttotal: 401ms\tremaining: 0us\n",
      "0:\tlearn: 1722.1653492\ttotal: 4.77ms\tremaining: 2.38s\n",
      "200:\tlearn: 1117.0329442\ttotal: 778ms\tremaining: 1.16s\n",
      "400:\tlearn: 1057.3918788\ttotal: 1.62s\tremaining: 399ms\n",
      "499:\tlearn: 1041.7873230\ttotal: 2.04s\tremaining: 0us\n",
      "0:\tlearn: 1716.6552480\ttotal: 4.99ms\tremaining: 2.49s\n",
      "200:\tlearn: 1095.8598638\ttotal: 767ms\tremaining: 1.14s\n",
      "400:\tlearn: 1033.7083151\ttotal: 1.6s\tremaining: 396ms\n",
      "499:\tlearn: 1017.8092027\ttotal: 2.02s\tremaining: 0us\n",
      "0:\tlearn: 1694.1391661\ttotal: 4.87ms\tremaining: 2.43s\n",
      "200:\tlearn: 1093.0296084\ttotal: 783ms\tremaining: 1.17s\n",
      "400:\tlearn: 1037.3008511\ttotal: 1.61s\tremaining: 397ms\n",
      "499:\tlearn: 1022.8915640\ttotal: 2.02s\tremaining: 0us\n",
      "0:\tlearn: 1648.8318053\ttotal: 7.02ms\tremaining: 3.5s\n",
      "200:\tlearn: 891.8776478\ttotal: 878ms\tremaining: 1.31s\n",
      "400:\tlearn: 751.8256263\ttotal: 1.75s\tremaining: 431ms\n",
      "499:\tlearn: 698.9563193\ttotal: 2.17s\tremaining: 0us\n",
      "0:\tlearn: 1639.8911442\ttotal: 5.08ms\tremaining: 2.53s\n",
      "200:\tlearn: 858.2075228\ttotal: 865ms\tremaining: 1.29s\n",
      "400:\tlearn: 727.9338293\ttotal: 1.72s\tremaining: 425ms\n",
      "499:\tlearn: 676.2421822\ttotal: 2.15s\tremaining: 0us\n",
      "0:\tlearn: 1618.9178508\ttotal: 4.89ms\tremaining: 2.44s\n",
      "200:\tlearn: 897.6969724\ttotal: 850ms\tremaining: 1.26s\n",
      "400:\tlearn: 771.7445311\ttotal: 1.7s\tremaining: 420ms\n",
      "499:\tlearn: 716.9569201\ttotal: 2.13s\tremaining: 0us\n",
      "0:\tlearn: 1689.2198858\ttotal: 4.73ms\tremaining: 2.36s\n",
      "200:\tlearn: 977.7618595\ttotal: 837ms\tremaining: 1.25s\n",
      "400:\tlearn: 892.9718950\ttotal: 1.67s\tremaining: 413ms\n",
      "499:\tlearn: 859.3611385\ttotal: 2.1s\tremaining: 0us\n",
      "0:\tlearn: 1682.1696550\ttotal: 4.86ms\tremaining: 2.42s\n",
      "200:\tlearn: 958.7885998\ttotal: 838ms\tremaining: 1.25s\n",
      "400:\tlearn: 858.3652644\ttotal: 1.7s\tremaining: 420ms\n",
      "499:\tlearn: 823.7769305\ttotal: 2.13s\tremaining: 0us\n",
      "0:\tlearn: 1660.3576906\ttotal: 4.69ms\tremaining: 2.34s\n",
      "200:\tlearn: 967.1781580\ttotal: 945ms\tremaining: 1.41s\n",
      "400:\tlearn: 897.4155758\ttotal: 1.8s\tremaining: 444ms\n",
      "499:\tlearn: 860.9673932\ttotal: 2.22s\tremaining: 0us\n",
      "0:\tlearn: 1722.1653492\ttotal: 4.74ms\tremaining: 4.74s\n",
      "200:\tlearn: 1117.0329442\ttotal: 786ms\tremaining: 3.12s\n",
      "400:\tlearn: 1057.3918788\ttotal: 1.64s\tremaining: 2.45s\n",
      "600:\tlearn: 1028.2388969\ttotal: 2.48s\tremaining: 1.65s\n",
      "800:\tlearn: 1003.9269861\ttotal: 3.33s\tremaining: 827ms\n",
      "999:\tlearn: 980.2388064\ttotal: 4.18s\tremaining: 0us\n",
      "0:\tlearn: 1716.6552480\ttotal: 6.15ms\tremaining: 6.14s\n",
      "200:\tlearn: 1095.8598638\ttotal: 781ms\tremaining: 3.1s\n",
      "400:\tlearn: 1033.7083151\ttotal: 1.62s\tremaining: 2.42s\n",
      "600:\tlearn: 1003.2491205\ttotal: 2.46s\tremaining: 1.64s\n",
      "800:\tlearn: 976.8770047\ttotal: 3.32s\tremaining: 825ms\n",
      "999:\tlearn: 953.7405145\ttotal: 4.17s\tremaining: 0us\n",
      "0:\tlearn: 1694.1391661\ttotal: 5.83ms\tremaining: 5.83s\n",
      "200:\tlearn: 1093.0296084\ttotal: 811ms\tremaining: 3.22s\n",
      "400:\tlearn: 1037.3008511\ttotal: 1.64s\tremaining: 2.45s\n",
      "600:\tlearn: 1010.4218112\ttotal: 2.48s\tremaining: 1.65s\n",
      "800:\tlearn: 987.2913763\ttotal: 3.31s\tremaining: 824ms\n",
      "999:\tlearn: 966.6269276\ttotal: 4.16s\tremaining: 0us\n",
      "0:\tlearn: 1648.8318053\ttotal: 7.17ms\tremaining: 7.16s\n",
      "200:\tlearn: 891.8776478\ttotal: 886ms\tremaining: 3.52s\n",
      "400:\tlearn: 751.8256263\ttotal: 1.75s\tremaining: 2.61s\n",
      "600:\tlearn: 652.5434235\ttotal: 2.61s\tremaining: 1.73s\n",
      "800:\tlearn: 580.9463058\ttotal: 3.47s\tremaining: 862ms\n",
      "999:\tlearn: 523.5230034\ttotal: 4.34s\tremaining: 0us\n",
      "0:\tlearn: 1639.8911442\ttotal: 7.2ms\tremaining: 7.19s\n",
      "200:\tlearn: 858.2075228\ttotal: 918ms\tremaining: 3.65s\n",
      "400:\tlearn: 727.9338293\ttotal: 1.78s\tremaining: 2.66s\n",
      "600:\tlearn: 636.4037221\ttotal: 2.65s\tremaining: 1.76s\n",
      "800:\tlearn: 572.9971596\ttotal: 3.5s\tremaining: 871ms\n",
      "999:\tlearn: 517.0049205\ttotal: 4.36s\tremaining: 0us\n",
      "0:\tlearn: 1618.9178508\ttotal: 7.27ms\tremaining: 7.26s\n",
      "200:\tlearn: 897.6969724\ttotal: 899ms\tremaining: 3.57s\n",
      "400:\tlearn: 771.7445311\ttotal: 1.77s\tremaining: 2.65s\n",
      "600:\tlearn: 667.1607332\ttotal: 2.64s\tremaining: 1.75s\n",
      "800:\tlearn: 585.3325167\ttotal: 3.5s\tremaining: 871ms\n",
      "999:\tlearn: 526.9071285\ttotal: 4.36s\tremaining: 0us\n",
      "0:\tlearn: 1689.2198858\ttotal: 6.79ms\tremaining: 6.78s\n",
      "200:\tlearn: 977.7618595\ttotal: 874ms\tremaining: 3.47s\n",
      "400:\tlearn: 892.9718950\ttotal: 1.71s\tremaining: 2.56s\n",
      "600:\tlearn: 820.7025421\ttotal: 2.56s\tremaining: 1.7s\n",
      "800:\tlearn: 758.2484729\ttotal: 3.43s\tremaining: 852ms\n",
      "999:\tlearn: 708.5053823\ttotal: 4.28s\tremaining: 0us\n",
      "0:\tlearn: 1682.1696550\ttotal: 7.14ms\tremaining: 7.13s\n",
      "200:\tlearn: 958.7885998\ttotal: 890ms\tremaining: 3.54s\n",
      "400:\tlearn: 858.3652644\ttotal: 1.75s\tremaining: 2.61s\n",
      "600:\tlearn: 790.7545514\ttotal: 2.61s\tremaining: 1.73s\n",
      "800:\tlearn: 736.9667996\ttotal: 3.48s\tremaining: 863ms\n",
      "999:\tlearn: 689.2889530\ttotal: 4.33s\tremaining: 0us\n",
      "0:\tlearn: 1660.3576906\ttotal: 7.37ms\tremaining: 7.36s\n",
      "200:\tlearn: 967.1781580\ttotal: 853ms\tremaining: 3.39s\n",
      "400:\tlearn: 897.4155758\ttotal: 1.71s\tremaining: 2.55s\n",
      "600:\tlearn: 828.9955834\ttotal: 2.56s\tremaining: 1.7s\n",
      "800:\tlearn: 767.5848344\ttotal: 3.42s\tremaining: 850ms\n",
      "999:\tlearn: 712.4070475\ttotal: 4.28s\tremaining: 0us\n",
      "0:\tlearn: 1710.8587504\ttotal: 2.64ms\tremaining: 2.64s\n",
      "200:\tlearn: 1116.6940896\ttotal: 324ms\tremaining: 1.29s\n",
      "400:\tlearn: 1079.6791964\ttotal: 622ms\tremaining: 929ms\n",
      "600:\tlearn: 1069.6829385\ttotal: 923ms\tremaining: 613ms\n",
      "800:\tlearn: 1062.2563743\ttotal: 1.22s\tremaining: 304ms\n",
      "999:\tlearn: 1055.3151643\ttotal: 1.51s\tremaining: 0us\n"
     ]
    },
    {
     "data": {
      "text/html": [
       "<style>#sk-container-id-28 {color: black;background-color: white;}#sk-container-id-28 pre{padding: 0;}#sk-container-id-28 div.sk-toggleable {background-color: white;}#sk-container-id-28 label.sk-toggleable__label {cursor: pointer;display: block;width: 100%;margin-bottom: 0;padding: 0.3em;box-sizing: border-box;text-align: center;}#sk-container-id-28 label.sk-toggleable__label-arrow:before {content: \"▸\";float: left;margin-right: 0.25em;color: #696969;}#sk-container-id-28 label.sk-toggleable__label-arrow:hover:before {color: black;}#sk-container-id-28 div.sk-estimator:hover label.sk-toggleable__label-arrow:before {color: black;}#sk-container-id-28 div.sk-toggleable__content {max-height: 0;max-width: 0;overflow: hidden;text-align: left;background-color: #f0f8ff;}#sk-container-id-28 div.sk-toggleable__content pre {margin: 0.2em;color: black;border-radius: 0.25em;background-color: #f0f8ff;}#sk-container-id-28 input.sk-toggleable__control:checked~div.sk-toggleable__content {max-height: 200px;max-width: 100%;overflow: auto;}#sk-container-id-28 input.sk-toggleable__control:checked~label.sk-toggleable__label-arrow:before {content: \"▾\";}#sk-container-id-28 div.sk-estimator input.sk-toggleable__control:checked~label.sk-toggleable__label {background-color: #d4ebff;}#sk-container-id-28 div.sk-label input.sk-toggleable__control:checked~label.sk-toggleable__label {background-color: #d4ebff;}#sk-container-id-28 input.sk-hidden--visually {border: 0;clip: rect(1px 1px 1px 1px);clip: rect(1px, 1px, 1px, 1px);height: 1px;margin: -1px;overflow: hidden;padding: 0;position: absolute;width: 1px;}#sk-container-id-28 div.sk-estimator {font-family: monospace;background-color: #f0f8ff;border: 1px dotted black;border-radius: 0.25em;box-sizing: border-box;margin-bottom: 0.5em;}#sk-container-id-28 div.sk-estimator:hover {background-color: #d4ebff;}#sk-container-id-28 div.sk-parallel-item::after {content: \"\";width: 100%;border-bottom: 1px solid gray;flex-grow: 1;}#sk-container-id-28 div.sk-label:hover label.sk-toggleable__label {background-color: #d4ebff;}#sk-container-id-28 div.sk-serial::before {content: \"\";position: absolute;border-left: 1px solid gray;box-sizing: border-box;top: 0;bottom: 0;left: 50%;z-index: 0;}#sk-container-id-28 div.sk-serial {display: flex;flex-direction: column;align-items: center;background-color: white;padding-right: 0.2em;padding-left: 0.2em;position: relative;}#sk-container-id-28 div.sk-item {position: relative;z-index: 1;}#sk-container-id-28 div.sk-parallel {display: flex;align-items: stretch;justify-content: center;background-color: white;position: relative;}#sk-container-id-28 div.sk-item::before, #sk-container-id-28 div.sk-parallel-item::before {content: \"\";position: absolute;border-left: 1px solid gray;box-sizing: border-box;top: 0;bottom: 0;left: 50%;z-index: -1;}#sk-container-id-28 div.sk-parallel-item {display: flex;flex-direction: column;z-index: 1;position: relative;background-color: white;}#sk-container-id-28 div.sk-parallel-item:first-child::after {align-self: flex-end;width: 50%;}#sk-container-id-28 div.sk-parallel-item:last-child::after {align-self: flex-start;width: 50%;}#sk-container-id-28 div.sk-parallel-item:only-child::after {width: 0;}#sk-container-id-28 div.sk-dashed-wrapped {border: 1px dashed gray;margin: 0 0.4em 0.5em 0.4em;box-sizing: border-box;padding-bottom: 0.4em;background-color: white;}#sk-container-id-28 div.sk-label label {font-family: monospace;font-weight: bold;display: inline-block;line-height: 1.2em;}#sk-container-id-28 div.sk-label-container {text-align: center;}#sk-container-id-28 div.sk-container {/* jupyter's `normalize.less` sets `[hidden] { display: none; }` but bootstrap.min.css set `[hidden] { display: none !important; }` so we also need the `!important` here to be able to override the default hidden behavior on the sphinx rendered scikit-learn.org. See: https://github.com/scikit-learn/scikit-learn/issues/21755 */display: inline-block !important;position: relative;}#sk-container-id-28 div.sk-text-repr-fallback {display: none;}</style><div id=\"sk-container-id-28\" class=\"sk-top-container\"><div class=\"sk-text-repr-fallback\"><pre>GridSearchCV(cv=3,\n",
       "             estimator=&lt;catboost.core.CatBoostRegressor object at 0x000001F296B5B990&gt;,\n",
       "             param_grid={&#x27;depth&#x27;: [4, 6, 8], &#x27;iterations&#x27;: [100, 500, 1000],\n",
       "                         &#x27;learning_rate&#x27;: [0.01, 0.1, 0.05]})</pre><b>In a Jupyter environment, please rerun this cell to show the HTML representation or trust the notebook. <br />On GitHub, the HTML representation is unable to render, please try loading this page with nbviewer.org.</b></div><div class=\"sk-container\" hidden><div class=\"sk-item sk-dashed-wrapped\"><div class=\"sk-label-container\"><div class=\"sk-label sk-toggleable\"><input class=\"sk-toggleable__control sk-hidden--visually\" id=\"sk-estimator-id-34\" type=\"checkbox\" ><label for=\"sk-estimator-id-34\" class=\"sk-toggleable__label sk-toggleable__label-arrow\">GridSearchCV</label><div class=\"sk-toggleable__content\"><pre>GridSearchCV(cv=3,\n",
       "             estimator=&lt;catboost.core.CatBoostRegressor object at 0x000001F296B5B990&gt;,\n",
       "             param_grid={&#x27;depth&#x27;: [4, 6, 8], &#x27;iterations&#x27;: [100, 500, 1000],\n",
       "                         &#x27;learning_rate&#x27;: [0.01, 0.1, 0.05]})</pre></div></div></div><div class=\"sk-parallel\"><div class=\"sk-parallel-item\"><div class=\"sk-item\"><div class=\"sk-label-container\"><div class=\"sk-label sk-toggleable\"><input class=\"sk-toggleable__control sk-hidden--visually\" id=\"sk-estimator-id-35\" type=\"checkbox\" ><label for=\"sk-estimator-id-35\" class=\"sk-toggleable__label sk-toggleable__label-arrow\">estimator: CatBoostRegressor</label><div class=\"sk-toggleable__content\"><pre>&lt;catboost.core.CatBoostRegressor object at 0x000001F296B5B990&gt;</pre></div></div></div><div class=\"sk-serial\"><div class=\"sk-item\"><div class=\"sk-estimator sk-toggleable\"><input class=\"sk-toggleable__control sk-hidden--visually\" id=\"sk-estimator-id-36\" type=\"checkbox\" ><label for=\"sk-estimator-id-36\" class=\"sk-toggleable__label sk-toggleable__label-arrow\">CatBoostRegressor</label><div class=\"sk-toggleable__content\"><pre>&lt;catboost.core.CatBoostRegressor object at 0x000001F296B5B990&gt;</pre></div></div></div></div></div></div></div></div></div></div>"
      ],
      "text/plain": [
       "GridSearchCV(cv=3,\n",
       "             estimator=<catboost.core.CatBoostRegressor object at 0x000001F296B5B990>,\n",
       "             param_grid={'depth': [4, 6, 8], 'iterations': [100, 500, 1000],\n",
       "                         'learning_rate': [0.01, 0.1, 0.05]})"
      ]
     },
     "execution_count": 771,
     "metadata": {},
     "output_type": "execute_result"
    }
   ],
   "source": [
    "# Define the hyperparameter grid\n",
    "param_grid = {\n",
    "    'iterations': [100, 500, 1000],\n",
    "    'learning_rate': [0.01, 0.1, 0.05],\n",
    "    'depth': [4, 6, 8]\n",
    "}\n",
    "\n",
    "# Create the CatBoost classifier\n",
    "model = CatBoostRegressor(random_seed=42,loss_function='RMSE',verbose=200,l2_leaf_reg=10)\n",
    "\n",
    "# Perform grid search\n",
    "grid_search = GridSearchCV(model, param_grid, cv=3)\n",
    "grid_search.fit(X_train_scaled, y_train)\n"
   ]
  },
  {
   "cell_type": "code",
   "execution_count": 772,
   "id": "83c477f3-1fe8-4ee7-afd2-5965aacb9fce",
   "metadata": {},
   "outputs": [
    {
     "name": "stdout",
     "output_type": "stream",
     "text": [
      "{'depth': 4, 'iterations': 1000, 'learning_rate': 0.01}\n",
      "0.6006619690004626\n"
     ]
    }
   ],
   "source": [
    "print(grid_search.best_params_)\n",
    "print(grid_search.best_score_)"
   ]
  },
  {
   "cell_type": "code",
   "execution_count": 773,
   "id": "82e859ec-d91c-4adc-9e92-cb0d3f92a6c0",
   "metadata": {},
   "outputs": [
    {
     "name": "stdout",
     "output_type": "stream",
     "text": [
      "0:\tlearn: 1710.8587504\ttotal: 1.83ms\tremaining: 1.82s\n",
      "200:\tlearn: 1116.6940896\ttotal: 326ms\tremaining: 1.3s\n",
      "400:\tlearn: 1079.6791964\ttotal: 624ms\tremaining: 931ms\n",
      "600:\tlearn: 1069.6829385\ttotal: 922ms\tremaining: 612ms\n",
      "800:\tlearn: 1062.2563743\ttotal: 1.22s\tremaining: 304ms\n",
      "999:\tlearn: 1055.3151643\ttotal: 1.52s\tremaining: 0us\n"
     ]
    }
   ],
   "source": [
    "CBR=CatBoostRegressor(iterations=1000,random_seed=42,depth=4,learning_rate=0.01,loss_function='RMSE',verbose=200,l2_leaf_reg=10)\n",
    "CBR.fit(X_train_scaled,y_train)\n",
    "y_predict_CBR=CBR.predict(X_test_scaled)"
   ]
  },
  {
   "cell_type": "code",
   "execution_count": 774,
   "id": "2c4c60d7-6793-4224-9a57-78a5f6dbf21f",
   "metadata": {},
   "outputs": [
    {
     "name": "stdout",
     "output_type": "stream",
     "text": [
      "Mean Square Error- 1103335.9290794786\n",
      "Mean Square Error- 1050.397986041233\n",
      "Mean absolute error-  734.4584164568322\n",
      "Mean absolute error-  734.4584164568322\n",
      "r2_Score 0.6060912250237033\n"
     ]
    }
   ],
   "source": [
    "print('Mean Square Error-',mean_squared_error(y_test,y_predict_CBR))\n",
    "print('Mean Square Error-',np.sqrt(mean_squared_error(y_test,y_predict_CBR)))\n",
    "print('Mean absolute error- ',mean_absolute_error(y_test,y_predict_CBR))\n",
    "print('Mean absolute error- ',mean_absolute_error(y_test,y_predict_CBR))\n",
    "print('r2_Score',r2_score(y_test,y_predict_CBR))"
   ]
  },
  {
   "cell_type": "markdown",
   "id": "879dd063-f557-4cee-bc58-6a95055dd80c",
   "metadata": {},
   "source": [
    "After Grid SearchCV model performed well with better accuracy.I have used four models and out of which catboost performs well."
   ]
  },
  {
   "cell_type": "code",
   "execution_count": 775,
   "id": "6041b70e-1ee7-47d6-8718-8c8eab4d3865",
   "metadata": {},
   "outputs": [],
   "source": [
    "import pickle"
   ]
  },
  {
   "cell_type": "code",
   "execution_count": 777,
   "id": "b0438281-e7e0-46b4-88af-5c619baf2d7e",
   "metadata": {},
   "outputs": [],
   "source": [
    "pickle.dump(CBR,file=open('catboost.pkl','wb'))"
   ]
  },
  {
   "cell_type": "code",
   "execution_count": 778,
   "id": "02e60681-a6b9-4489-a74c-e726a853bd70",
   "metadata": {},
   "outputs": [],
   "source": [
    "pickle.dump(CBR,file=open('XGBboost.pkl','wb'))"
   ]
  },
  {
   "cell_type": "code",
   "execution_count": 780,
   "id": "05f2bd8a-ccbb-4344-b09b-737b883cf0f4",
   "metadata": {},
   "outputs": [],
   "source": [
    "pickle.dump(scaler,file=open('Standardscaler.pkl','wb'))"
   ]
  },
  {
   "cell_type": "code",
   "execution_count": 792,
   "id": "cd8d66b5-8ca8-40f6-92a2-eb641f47999d",
   "metadata": {},
   "outputs": [
    {
     "name": "stdout",
     "output_type": "stream",
     "text": [
      "Item_Fat_Content_labelobject.pkl\n",
      "Item_Type_labelobject.pkl\n",
      "Outlet_Size_labelobject.pkl\n",
      "Outlet_Location_Type_labelobject.pkl\n",
      "Outlet_Type_labelobject.pkl\n",
      "Item_Identifier_Code_labelobject.pkl\n"
     ]
    }
   ],
   "source": [
    "for i in label_objects:\n",
    "    fname=f'{i}_labelobject.pkl'\n",
    "    print(fname)\n",
    "    pickle.dump(label_objects[i],file=open(fname,'wb'))    "
   ]
  },
  {
   "cell_type": "markdown",
   "id": "90ffb1c0-acaf-4e03-85d7-76912e3eff13",
   "metadata": {},
   "source": [
    "## Test Data Prediction"
   ]
  },
  {
   "cell_type": "code",
   "execution_count": 796,
   "id": "16eaf182-9dfc-492d-96d8-db0fa141160e",
   "metadata": {},
   "outputs": [],
   "source": [
    "df_sal_test=pd.read_csv('test.csv')"
   ]
  },
  {
   "cell_type": "code",
   "execution_count": 797,
   "id": "ac3c8df9-ffe3-4943-b94e-cf5adf690147",
   "metadata": {},
   "outputs": [
    {
     "name": "stdout",
     "output_type": "stream",
     "text": [
      "Standard Deviation:  4.668412728222087\n"
     ]
    }
   ],
   "source": [
    "df_sal_test=NULL_handling(df_sal_test,'Item_Weight')"
   ]
  },
  {
   "cell_type": "code",
   "execution_count": 799,
   "id": "0ee73d16-e764-4591-97c8-88f7b5c5161d",
   "metadata": {},
   "outputs": [],
   "source": [
    "## Null Handling for Categorical data\n",
    "df_sal_test['Outlet_Size']=df_sal_test[['Outlet_Size','Outlet_Location_Type']].apply(lambda x: 'Small' if (pd.isna(x['Outlet_Size'])==True) \n",
    "                                                     & (x['Outlet_Location_Type']=='Tier 2') else ( 'High' if (pd.isna(x['Outlet_Size'])==True) & (x['Outlet_Location_Type']!='Tier 2') else x['Outlet_Size']),axis=1)"
   ]
  },
  {
   "cell_type": "code",
   "execution_count": 800,
   "id": "41787539-0de4-4b7a-8af0-3b241bd36504",
   "metadata": {},
   "outputs": [
    {
     "data": {
      "text/plain": [
       "Item_Identifier              0\n",
       "Item_Weight                  0\n",
       "Item_Fat_Content             0\n",
       "Item_Visibility              0\n",
       "Item_Type                    0\n",
       "Item_MRP                     0\n",
       "Outlet_Identifier            0\n",
       "Outlet_Establishment_Year    0\n",
       "Outlet_Size                  0\n",
       "Outlet_Location_Type         0\n",
       "Outlet_Type                  0\n",
       "dtype: int64"
      ]
     },
     "execution_count": 800,
     "metadata": {},
     "output_type": "execute_result"
    }
   ],
   "source": [
    "df_sal_test.isnull().sum()"
   ]
  },
  {
   "cell_type": "code",
   "execution_count": 801,
   "id": "f21fb861-9051-4e05-833f-2e5fe8b2c66d",
   "metadata": {},
   "outputs": [
    {
     "data": {
      "text/plain": [
       "{'low fat': 'Low Fat', 'LF': 'Low Fat', 'reg': 'Regular'}"
      ]
     },
     "execution_count": 801,
     "metadata": {},
     "output_type": "execute_result"
    }
   ],
   "source": [
    "fat_content_Val"
   ]
  },
  {
   "cell_type": "code",
   "execution_count": 802,
   "id": "c64698b7-9375-461e-a894-f02615a456a5",
   "metadata": {},
   "outputs": [],
   "source": [
    "df_sal_test['Item_Fat_Content']=df_sal_test['Item_Fat_Content'].replace(fat_content_Val)"
   ]
  },
  {
   "cell_type": "code",
   "execution_count": 803,
   "id": "aae85405-984a-48ad-8908-b073dbde2ad2",
   "metadata": {},
   "outputs": [],
   "source": [
    "# Outlet\n",
    "df_sal_test['Outlet_Identifier']=df_sal_test['Outlet_Identifier'].str.replace('OUT','')"
   ]
  },
  {
   "cell_type": "code",
   "execution_count": 804,
   "id": "a45848aa-99f0-4f22-b89c-c32f257a888d",
   "metadata": {},
   "outputs": [],
   "source": [
    "df_sal_test['Item_Identifier_Code']=df_sal_test['Item_Identifier'].str.extract('([A-Za-z]+)')\n",
    "df_sal_test['Item_Identifier_id']=df_sal_test[['Item_Identifier','Item_Identifier_Code']].apply(lambda x: x['Item_Identifier'].replace(x['Item_Identifier_Code'],''),axis=1)"
   ]
  },
  {
   "cell_type": "code",
   "execution_count": 807,
   "id": "48d797e8-afa4-4ed3-871a-6c0cdc63a9cb",
   "metadata": {},
   "outputs": [],
   "source": [
    "label_objects={}\n",
    "for j in ['Item_Fat_Content','Item_Type','Outlet_Size','Outlet_Location_Type','Outlet_Type','Item_Identifier_Code']:\n",
    "    for i in os.listdir():\n",
    "        if j in i:\n",
    "            LE_object=pickle.load(open(i,'rb'))\n",
    "            label_objects[j]=LE_object\n",
    "            "
   ]
  },
  {
   "cell_type": "code",
   "execution_count": 809,
   "id": "c3d69d0d-37b3-410d-94d5-689551ef5d70",
   "metadata": {},
   "outputs": [],
   "source": [
    "for i in ['Item_Fat_Content','Item_Type','Outlet_Size','Outlet_Location_Type','Outlet_Type','Item_Identifier_Code']:\n",
    "    le=label_objects[i]\n",
    "    df_sal_test[i]=le.transform(df_sal_test[i])"
   ]
  },
  {
   "cell_type": "code",
   "execution_count": 810,
   "id": "0926ac0d-ae2f-420b-a774-63a5dabbcba6",
   "metadata": {},
   "outputs": [],
   "source": [
    "## Dropping the unwanted columns:\n",
    "drop_col=['Item_Identifier','Outlet_Establishment_Year']\n",
    "df_sal_test.drop(drop_col,inplace=True,axis=1)"
   ]
  },
  {
   "cell_type": "code",
   "execution_count": 811,
   "id": "b37deda2-1cd9-4ab0-a8e1-b0184d3a37ce",
   "metadata": {},
   "outputs": [],
   "source": [
    "df_sal_test=df_sal_test[['Item_Identifier_Code','Item_Identifier_id','Item_Weight', 'Item_Fat_Content', 'Item_Visibility', 'Item_Type',\n",
    "       'Item_MRP', 'Outlet_Identifier', 'Outlet_Size', 'Outlet_Location_Type',\n",
    "       'Outlet_Type']]"
   ]
  },
  {
   "cell_type": "code",
   "execution_count": 812,
   "id": "e43976c7-a5a0-4440-94d2-e03a83e3f98d",
   "metadata": {},
   "outputs": [
    {
     "data": {
      "text/html": [
       "<div>\n",
       "<style scoped>\n",
       "    .dataframe tbody tr th:only-of-type {\n",
       "        vertical-align: middle;\n",
       "    }\n",
       "\n",
       "    .dataframe tbody tr th {\n",
       "        vertical-align: top;\n",
       "    }\n",
       "\n",
       "    .dataframe thead th {\n",
       "        text-align: right;\n",
       "    }\n",
       "</style>\n",
       "<table border=\"1\" class=\"dataframe\">\n",
       "  <thead>\n",
       "    <tr style=\"text-align: right;\">\n",
       "      <th></th>\n",
       "      <th>Item_Identifier_Code</th>\n",
       "      <th>Item_Identifier_id</th>\n",
       "      <th>Item_Weight</th>\n",
       "      <th>Item_Fat_Content</th>\n",
       "      <th>Item_Visibility</th>\n",
       "      <th>Item_Type</th>\n",
       "      <th>Item_MRP</th>\n",
       "      <th>Outlet_Identifier</th>\n",
       "      <th>Outlet_Size</th>\n",
       "      <th>Outlet_Location_Type</th>\n",
       "      <th>Outlet_Type</th>\n",
       "    </tr>\n",
       "  </thead>\n",
       "  <tbody>\n",
       "    <tr>\n",
       "      <th>0</th>\n",
       "      <td>41</td>\n",
       "      <td>58</td>\n",
       "      <td>20.750</td>\n",
       "      <td>0</td>\n",
       "      <td>0.007565</td>\n",
       "      <td>13</td>\n",
       "      <td>107.8622</td>\n",
       "      <td>049</td>\n",
       "      <td>1</td>\n",
       "      <td>0</td>\n",
       "      <td>1</td>\n",
       "    </tr>\n",
       "    <tr>\n",
       "      <th>1</th>\n",
       "      <td>41</td>\n",
       "      <td>14</td>\n",
       "      <td>8.300</td>\n",
       "      <td>1</td>\n",
       "      <td>0.038428</td>\n",
       "      <td>4</td>\n",
       "      <td>87.3198</td>\n",
       "      <td>017</td>\n",
       "      <td>2</td>\n",
       "      <td>1</td>\n",
       "      <td>1</td>\n",
       "    </tr>\n",
       "    <tr>\n",
       "      <th>2</th>\n",
       "      <td>58</td>\n",
       "      <td>55</td>\n",
       "      <td>14.600</td>\n",
       "      <td>0</td>\n",
       "      <td>0.099575</td>\n",
       "      <td>11</td>\n",
       "      <td>241.7538</td>\n",
       "      <td>010</td>\n",
       "      <td>0</td>\n",
       "      <td>2</td>\n",
       "      <td>0</td>\n",
       "    </tr>\n",
       "    <tr>\n",
       "      <th>3</th>\n",
       "      <td>35</td>\n",
       "      <td>58</td>\n",
       "      <td>7.315</td>\n",
       "      <td>0</td>\n",
       "      <td>0.015388</td>\n",
       "      <td>13</td>\n",
       "      <td>155.0340</td>\n",
       "      <td>017</td>\n",
       "      <td>2</td>\n",
       "      <td>1</td>\n",
       "      <td>1</td>\n",
       "    </tr>\n",
       "    <tr>\n",
       "      <th>4</th>\n",
       "      <td>43</td>\n",
       "      <td>38</td>\n",
       "      <td>9.800</td>\n",
       "      <td>1</td>\n",
       "      <td>0.118599</td>\n",
       "      <td>4</td>\n",
       "      <td>234.2300</td>\n",
       "      <td>027</td>\n",
       "      <td>1</td>\n",
       "      <td>2</td>\n",
       "      <td>3</td>\n",
       "    </tr>\n",
       "    <tr>\n",
       "      <th>...</th>\n",
       "      <td>...</td>\n",
       "      <td>...</td>\n",
       "      <td>...</td>\n",
       "      <td>...</td>\n",
       "      <td>...</td>\n",
       "      <td>...</td>\n",
       "      <td>...</td>\n",
       "      <td>...</td>\n",
       "      <td>...</td>\n",
       "      <td>...</td>\n",
       "      <td>...</td>\n",
       "    </tr>\n",
       "    <tr>\n",
       "      <th>5676</th>\n",
       "      <td>20</td>\n",
       "      <td>58</td>\n",
       "      <td>10.500</td>\n",
       "      <td>1</td>\n",
       "      <td>0.013496</td>\n",
       "      <td>13</td>\n",
       "      <td>141.3154</td>\n",
       "      <td>046</td>\n",
       "      <td>2</td>\n",
       "      <td>0</td>\n",
       "      <td>1</td>\n",
       "    </tr>\n",
       "    <tr>\n",
       "      <th>5677</th>\n",
       "      <td>22</td>\n",
       "      <td>47</td>\n",
       "      <td>7.600</td>\n",
       "      <td>1</td>\n",
       "      <td>0.142991</td>\n",
       "      <td>15</td>\n",
       "      <td>169.1448</td>\n",
       "      <td>018</td>\n",
       "      <td>1</td>\n",
       "      <td>2</td>\n",
       "      <td>2</td>\n",
       "    </tr>\n",
       "    <tr>\n",
       "      <th>5678</th>\n",
       "      <td>59</td>\n",
       "      <td>17</td>\n",
       "      <td>10.000</td>\n",
       "      <td>0</td>\n",
       "      <td>0.073529</td>\n",
       "      <td>8</td>\n",
       "      <td>118.7440</td>\n",
       "      <td>045</td>\n",
       "      <td>2</td>\n",
       "      <td>1</td>\n",
       "      <td>1</td>\n",
       "    </tr>\n",
       "    <tr>\n",
       "      <th>5679</th>\n",
       "      <td>28</td>\n",
       "      <td>26</td>\n",
       "      <td>15.300</td>\n",
       "      <td>1</td>\n",
       "      <td>0.000000</td>\n",
       "      <td>3</td>\n",
       "      <td>214.6218</td>\n",
       "      <td>017</td>\n",
       "      <td>2</td>\n",
       "      <td>1</td>\n",
       "      <td>1</td>\n",
       "    </tr>\n",
       "    <tr>\n",
       "      <th>5680</th>\n",
       "      <td>39</td>\n",
       "      <td>37</td>\n",
       "      <td>9.500</td>\n",
       "      <td>1</td>\n",
       "      <td>0.104720</td>\n",
       "      <td>3</td>\n",
       "      <td>79.7960</td>\n",
       "      <td>045</td>\n",
       "      <td>2</td>\n",
       "      <td>1</td>\n",
       "      <td>1</td>\n",
       "    </tr>\n",
       "  </tbody>\n",
       "</table>\n",
       "<p>5681 rows × 11 columns</p>\n",
       "</div>"
      ],
      "text/plain": [
       "      Item_Identifier_Code Item_Identifier_id  Item_Weight  Item_Fat_Content  \\\n",
       "0                       41                 58       20.750                 0   \n",
       "1                       41                 14        8.300                 1   \n",
       "2                       58                 55       14.600                 0   \n",
       "3                       35                 58        7.315                 0   \n",
       "4                       43                 38        9.800                 1   \n",
       "...                    ...                ...          ...               ...   \n",
       "5676                    20                 58       10.500                 1   \n",
       "5677                    22                 47        7.600                 1   \n",
       "5678                    59                 17       10.000                 0   \n",
       "5679                    28                 26       15.300                 1   \n",
       "5680                    39                 37        9.500                 1   \n",
       "\n",
       "      Item_Visibility  Item_Type  Item_MRP Outlet_Identifier  Outlet_Size  \\\n",
       "0            0.007565         13  107.8622               049            1   \n",
       "1            0.038428          4   87.3198               017            2   \n",
       "2            0.099575         11  241.7538               010            0   \n",
       "3            0.015388         13  155.0340               017            2   \n",
       "4            0.118599          4  234.2300               027            1   \n",
       "...               ...        ...       ...               ...          ...   \n",
       "5676         0.013496         13  141.3154               046            2   \n",
       "5677         0.142991         15  169.1448               018            1   \n",
       "5678         0.073529          8  118.7440               045            2   \n",
       "5679         0.000000          3  214.6218               017            2   \n",
       "5680         0.104720          3   79.7960               045            2   \n",
       "\n",
       "      Outlet_Location_Type  Outlet_Type  \n",
       "0                        0            1  \n",
       "1                        1            1  \n",
       "2                        2            0  \n",
       "3                        1            1  \n",
       "4                        2            3  \n",
       "...                    ...          ...  \n",
       "5676                     0            1  \n",
       "5677                     2            2  \n",
       "5678                     1            1  \n",
       "5679                     1            1  \n",
       "5680                     1            1  \n",
       "\n",
       "[5681 rows x 11 columns]"
      ]
     },
     "execution_count": 812,
     "metadata": {},
     "output_type": "execute_result"
    }
   ],
   "source": [
    "df_sal_test"
   ]
  },
  {
   "cell_type": "code",
   "execution_count": 813,
   "id": "2354dcab-0e66-464d-b1ff-053502f8d8bb",
   "metadata": {},
   "outputs": [
    {
     "name": "stdout",
     "output_type": "stream",
     "text": [
      "Item_Identifier_id\n",
      "Outlet_Identifier\n"
     ]
    }
   ],
   "source": [
    "for i in df_sal_test.columns:\n",
    "    if df_sal_test[i].dtypes=='O':\n",
    "        print(i)\n",
    "        df_sal_test[i]=df_sal_test[i].apply(lambda x: str(x).strip())\n"
   ]
  },
  {
   "cell_type": "code",
   "execution_count": 814,
   "id": "7212a5a5-8fcd-43b0-ac31-6e68e23513c6",
   "metadata": {},
   "outputs": [
    {
     "name": "stdout",
     "output_type": "stream",
     "text": [
      "IQR:  0.066415748\n",
      "min_scale:  -0.072576747\n",
      "max_scale:  0.193086245\n"
     ]
    }
   ],
   "source": [
    "Outlier_handle(df_sal_test,'Item_Visibility')"
   ]
  },
  {
   "cell_type": "code",
   "execution_count": 815,
   "id": "c1093ba3-4b2a-4e18-8679-c1de384220ab",
   "metadata": {},
   "outputs": [
    {
     "data": {
      "text/html": [
       "<div>\n",
       "<style scoped>\n",
       "    .dataframe tbody tr th:only-of-type {\n",
       "        vertical-align: middle;\n",
       "    }\n",
       "\n",
       "    .dataframe tbody tr th {\n",
       "        vertical-align: top;\n",
       "    }\n",
       "\n",
       "    .dataframe thead th {\n",
       "        text-align: right;\n",
       "    }\n",
       "</style>\n",
       "<table border=\"1\" class=\"dataframe\">\n",
       "  <thead>\n",
       "    <tr style=\"text-align: right;\">\n",
       "      <th></th>\n",
       "      <th>Item_Weight</th>\n",
       "      <th>Item_Visibility</th>\n",
       "      <th>Item_MRP</th>\n",
       "    </tr>\n",
       "  </thead>\n",
       "  <tbody>\n",
       "    <tr>\n",
       "      <th>Item_Weight</th>\n",
       "      <td>1.00000</td>\n",
       "      <td>-0.011280</td>\n",
       "      <td>0.040210</td>\n",
       "    </tr>\n",
       "    <tr>\n",
       "      <th>Item_Visibility</th>\n",
       "      <td>-0.01128</td>\n",
       "      <td>1.000000</td>\n",
       "      <td>-0.011306</td>\n",
       "    </tr>\n",
       "    <tr>\n",
       "      <th>Item_MRP</th>\n",
       "      <td>0.04021</td>\n",
       "      <td>-0.011306</td>\n",
       "      <td>1.000000</td>\n",
       "    </tr>\n",
       "  </tbody>\n",
       "</table>\n",
       "</div>"
      ],
      "text/plain": [
       "                 Item_Weight  Item_Visibility  Item_MRP\n",
       "Item_Weight          1.00000        -0.011280  0.040210\n",
       "Item_Visibility     -0.01128         1.000000 -0.011306\n",
       "Item_MRP             0.04021        -0.011306  1.000000"
      ]
     },
     "execution_count": 815,
     "metadata": {},
     "output_type": "execute_result"
    }
   ],
   "source": [
    "features_lst=['Item_Weight','Item_Visibility','Item_MRP']\n",
    "df_sal_test[features_lst].corr()"
   ]
  },
  {
   "cell_type": "code",
   "execution_count": null,
   "id": "1fcf671c-e0e4-403e-bdcd-9aa46aa6f32c",
   "metadata": {},
   "outputs": [],
   "source": [
    "# 'Item_Visibility','Item_Outlet_Sales','Item_Fat_Content','Outlet_Size'  -> Notice these featues are not required based on RF\n",
    "X=df_sal.drop(['Item_Visibility','Item_Outlet_Sales','Item_Fat_Content','Outlet_Size','Outlet_Location_Type'],axis=1)\n",
    "y=df_sal['Item_Outlet_Sales']"
   ]
  },
  {
   "cell_type": "code",
   "execution_count": 819,
   "id": "482a772a-cbb9-4f44-a41d-ed0e62fac625",
   "metadata": {},
   "outputs": [],
   "source": [
    "#### Test Data Scaling\n",
    "scaler=pickle.load(open('Standardscaler.pkl','rb'))\n",
    "df_sal_test_scal=df_sal_test.drop(['Item_Visibility','Item_Fat_Content','Outlet_Size','Outlet_Location_Type'],axis=1)\n",
    "test_data_scaled=scaler.transform(df_sal_test_scal)"
   ]
  },
  {
   "cell_type": "code",
   "execution_count": 821,
   "id": "8420be91-8dfc-47d5-876c-2cb8c5f965e5",
   "metadata": {},
   "outputs": [],
   "source": [
    "CBT=pickle.load(open('catboost.pkl','rb'))\n",
    "XGB=pickle.load(open('XGBboost.pkl','rb'))"
   ]
  },
  {
   "cell_type": "code",
   "execution_count": 822,
   "id": "00d94bc7-a308-4b7e-aed3-6ee200d4989f",
   "metadata": {},
   "outputs": [],
   "source": [
    "## With Test Data\n",
    "# y_predict_test=RF.predict(test_data_scaled)\n",
    "y_predict_test_xb=XGB.predict(test_data_scaled)\n",
    "y_predict_test_CBR=CBR.predict(test_data_scaled)\n",
    "# y_predict_test_GB=GB.predict(test_data_scaled)"
   ]
  },
  {
   "cell_type": "code",
   "execution_count": null,
   "id": "31f4115e-2ad6-4fb3-896d-a0b9c5755919",
   "metadata": {},
   "outputs": [],
   "source": [
    "# print('Mean Square Error-',mean_squared_error(y_test,y_predict))\n",
    "# print('Mean Square Error-',np.sqrt(mean_squared_error(y_test,y_predict)))\n",
    "# print('Mean absolute error- ',mean_absolute_error(y_test,y_predict))\n",
    "# print('Mean absolute error- ',mean_absolute_error(y_test,y_predict))"
   ]
  },
  {
   "cell_type": "code",
   "execution_count": 823,
   "id": "e44b8916-81cc-43b1-9370-d6a2924866f4",
   "metadata": {},
   "outputs": [],
   "source": [
    "y_predict_test_CBR=np.clip(y_predict_test_CBR,0,None)"
   ]
  },
  {
   "cell_type": "code",
   "execution_count": 824,
   "id": "2e5a2a02-9d57-4e56-aedd-2dd9afd32664",
   "metadata": {},
   "outputs": [],
   "source": [
    "y_predict_test_xb=np.clip(y_predict_test_xb,0,None)"
   ]
  },
  {
   "cell_type": "code",
   "execution_count": 607,
   "id": "2aa30302-c497-4a5d-bf0d-9de6b36984e6",
   "metadata": {},
   "outputs": [],
   "source": [
    "df_sal_testdata=pd.read_csv('test.csv')"
   ]
  },
  {
   "cell_type": "code",
   "execution_count": 825,
   "id": "81064548-17aa-416a-a2b6-1f19e01d66e4",
   "metadata": {},
   "outputs": [],
   "source": [
    "test_fin=df_sal_testdata[['Item_Identifier','Outlet_Identifier']]"
   ]
  },
  {
   "cell_type": "code",
   "execution_count": 826,
   "id": "690bda37-8087-403d-8124-9c4d8b2f1774",
   "metadata": {},
   "outputs": [],
   "source": [
    "test_fin['Item_Outlet_Sales']=y_predict_test_xb\n",
    "test_fin.to_csv('Submission_XB_final.csv',index=False)"
   ]
  },
  {
   "cell_type": "code",
   "execution_count": 827,
   "id": "d063e49a-6bdd-4006-af84-82d35e099f22",
   "metadata": {},
   "outputs": [],
   "source": [
    "test_fin['Item_Outlet_Sales']=y_predict_test_CBR\n",
    "test_fin.to_csv('Submission_CBR_final.csv',index=False)"
   ]
  },
  {
   "cell_type": "code",
   "execution_count": null,
   "id": "12d79060-ca04-4ddf-895e-85e98b5af2e0",
   "metadata": {},
   "outputs": [],
   "source": []
  },
  {
   "cell_type": "code",
   "execution_count": null,
   "id": "10dd6238-440f-4fd1-aeef-898cbaeb5090",
   "metadata": {},
   "outputs": [],
   "source": []
  },
  {
   "cell_type": "code",
   "execution_count": null,
   "id": "47c9837a-b4fb-4707-bee8-759cd4ad5e22",
   "metadata": {},
   "outputs": [],
   "source": []
  },
  {
   "cell_type": "code",
   "execution_count": null,
   "id": "243e078b-2f0d-4b98-91f5-1f04b494df50",
   "metadata": {},
   "outputs": [],
   "source": []
  },
  {
   "cell_type": "code",
   "execution_count": null,
   "id": "3d50f7d6-177e-44e5-b5d1-cafdf4414a82",
   "metadata": {},
   "outputs": [],
   "source": []
  },
  {
   "cell_type": "code",
   "execution_count": null,
   "id": "90f41d40-e805-4474-9550-34abaf56d5f8",
   "metadata": {},
   "outputs": [],
   "source": []
  },
  {
   "cell_type": "code",
   "execution_count": null,
   "id": "2f2969e4-aff6-47e5-8356-68bb93aec1b1",
   "metadata": {},
   "outputs": [],
   "source": []
  },
  {
   "cell_type": "code",
   "execution_count": null,
   "id": "dcbea2d1-0843-4ddf-ac56-b49ae1679c8a",
   "metadata": {},
   "outputs": [],
   "source": []
  },
  {
   "cell_type": "code",
   "execution_count": null,
   "id": "aea66260-3f9e-40e1-bcd6-f00911738676",
   "metadata": {},
   "outputs": [],
   "source": []
  },
  {
   "cell_type": "code",
   "execution_count": null,
   "id": "0a9b3210-4983-4765-b766-a46ce1ad3b2e",
   "metadata": {},
   "outputs": [],
   "source": []
  },
  {
   "cell_type": "code",
   "execution_count": null,
   "id": "f6462360-0c32-48a4-a3a6-1749e05cf54d",
   "metadata": {},
   "outputs": [],
   "source": []
  },
  {
   "cell_type": "code",
   "execution_count": null,
   "id": "ff20bd32-e460-4f61-8e58-907648b555c6",
   "metadata": {},
   "outputs": [],
   "source": []
  },
  {
   "cell_type": "code",
   "execution_count": null,
   "id": "ac890117-d4b1-4f1b-8c9b-703427dd65c2",
   "metadata": {},
   "outputs": [],
   "source": []
  },
  {
   "cell_type": "code",
   "execution_count": null,
   "id": "78f862bd-ac54-4741-8fd1-c98f6257cdee",
   "metadata": {},
   "outputs": [],
   "source": []
  },
  {
   "cell_type": "code",
   "execution_count": null,
   "id": "516976ad-3365-42c6-9bc4-d9f5e4c3b60e",
   "metadata": {},
   "outputs": [],
   "source": []
  },
  {
   "cell_type": "code",
   "execution_count": null,
   "id": "cb1ec0d2-e5ef-4ee3-b42f-c64ce283ef5b",
   "metadata": {},
   "outputs": [],
   "source": []
  },
  {
   "cell_type": "code",
   "execution_count": null,
   "id": "a87613ed-5cc7-4a6c-a873-fdf3ad34862a",
   "metadata": {},
   "outputs": [],
   "source": []
  },
  {
   "cell_type": "code",
   "execution_count": null,
   "id": "8dcfa130-6a41-4d96-af8a-6f1664163feb",
   "metadata": {},
   "outputs": [],
   "source": []
  },
  {
   "cell_type": "code",
   "execution_count": null,
   "id": "ed183555-6208-4ae4-a9fe-2a23af8e51c0",
   "metadata": {},
   "outputs": [],
   "source": []
  },
  {
   "cell_type": "code",
   "execution_count": null,
   "id": "fc8c1989-3bbc-40dc-98fb-30085dee05a1",
   "metadata": {},
   "outputs": [],
   "source": []
  },
  {
   "cell_type": "code",
   "execution_count": null,
   "id": "852bc9e2-66db-42c4-acf2-a2290402c15d",
   "metadata": {},
   "outputs": [],
   "source": []
  },
  {
   "cell_type": "code",
   "execution_count": null,
   "id": "37bb9b30-fb84-4598-b776-0b05ab78b633",
   "metadata": {},
   "outputs": [],
   "source": []
  },
  {
   "cell_type": "code",
   "execution_count": null,
   "id": "abf441cf-5d1d-4442-80b2-2f04e9af110e",
   "metadata": {},
   "outputs": [],
   "source": []
  },
  {
   "cell_type": "code",
   "execution_count": null,
   "id": "e2ade4da-e3f8-410c-ba4f-f21628ecfa04",
   "metadata": {},
   "outputs": [],
   "source": []
  },
  {
   "cell_type": "code",
   "execution_count": null,
   "id": "c46ef22c-bed0-4d21-9d17-08e0cd63c77c",
   "metadata": {},
   "outputs": [],
   "source": []
  },
  {
   "cell_type": "code",
   "execution_count": null,
   "id": "715b1297-e489-4224-9b71-82de86e2251e",
   "metadata": {},
   "outputs": [],
   "source": []
  },
  {
   "cell_type": "code",
   "execution_count": null,
   "id": "c0827cee-01a7-48fc-a1f1-284afc214a5f",
   "metadata": {},
   "outputs": [],
   "source": []
  },
  {
   "cell_type": "code",
   "execution_count": null,
   "id": "1db49301-09c8-40f3-b43f-7061e6352f78",
   "metadata": {},
   "outputs": [],
   "source": []
  },
  {
   "cell_type": "code",
   "execution_count": null,
   "id": "4f729560-6b5e-484f-8799-ee8289744383",
   "metadata": {},
   "outputs": [],
   "source": []
  },
  {
   "cell_type": "code",
   "execution_count": null,
   "id": "27cf1b70-4777-4954-8d60-ec529cec2229",
   "metadata": {},
   "outputs": [],
   "source": []
  },
  {
   "cell_type": "code",
   "execution_count": null,
   "id": "d41ce17f-0192-462c-860d-7b303e1cf763",
   "metadata": {},
   "outputs": [],
   "source": []
  },
  {
   "cell_type": "code",
   "execution_count": null,
   "id": "2f3bb426-5ab8-46a1-9cb0-945699687b9f",
   "metadata": {},
   "outputs": [],
   "source": []
  },
  {
   "cell_type": "code",
   "execution_count": null,
   "id": "319f0858-87db-458a-8829-fb05b8f44f23",
   "metadata": {},
   "outputs": [],
   "source": []
  },
  {
   "cell_type": "code",
   "execution_count": null,
   "id": "e58d6d54-623c-4d9d-bf7d-2c4749a3840c",
   "metadata": {},
   "outputs": [],
   "source": []
  },
  {
   "cell_type": "code",
   "execution_count": null,
   "id": "9f2a186e-7025-4ea0-ab1b-33f09d07e869",
   "metadata": {},
   "outputs": [],
   "source": []
  },
  {
   "cell_type": "code",
   "execution_count": null,
   "id": "95151465-10a4-4fb5-a8c4-3ef67b004c2f",
   "metadata": {},
   "outputs": [],
   "source": []
  }
 ],
 "metadata": {
  "kernelspec": {
   "display_name": "Python 3 (ipykernel)",
   "language": "python",
   "name": "python3"
  },
  "language_info": {
   "codemirror_mode": {
    "name": "ipython",
    "version": 3
   },
   "file_extension": ".py",
   "mimetype": "text/x-python",
   "name": "python",
   "nbconvert_exporter": "python",
   "pygments_lexer": "ipython3",
   "version": "3.11.7"
  }
 },
 "nbformat": 4,
 "nbformat_minor": 5
}
